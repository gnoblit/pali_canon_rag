{
 "cells": [
  {
   "cell_type": "code",
   "execution_count": 1,
   "metadata": {},
   "outputs": [],
   "source": [
    "import fitz"
   ]
  },
  {
   "cell_type": "code",
   "execution_count": null,
   "metadata": {},
   "outputs": [
    {
     "ename": "SyntaxError",
     "evalue": "incomplete input (4142144993.py, line 8)",
     "output_type": "error",
     "traceback": [
      "\u001b[0;36m  Cell \u001b[0;32mIn[1], line 8\u001b[0;36m\u001b[0m\n\u001b[0;31m    if not os.path.exist(pdf_path):\u001b[0m\n\u001b[0m                                   ^\u001b[0m\n\u001b[0;31mSyntaxError\u001b[0m\u001b[0;31m:\u001b[0m incomplete input\n"
     ]
    }
   ],
   "source": [
    "import os\n",
    "import requests\n",
    "\n",
    "# Get PDF document path\n",
    "pdf_path = '/mnt/c/Documents and Settings/Graham/Desktop/Buddhist Texts/Thanissaro/Individual/AnguttaraNikaya210825.pdf'\n",
    "url = 'https://www.dhammatalks.org/Archive/Writings/Ebooks/AnguttaraNikaya210825.pdf'\n",
    "\n",
    "# Download PDF\n",
    "if not os.path.exists(pdf_path):\n",
    "    print('[INFO] File does not exist, download...')\n",
    "\n",
    "    # Local filename to save downloaded file\n",
    "    filename = pdf_path\n",
    "\n",
    "    # Send a GET request to the URL\n",
    "    response = requests.get(url)\n",
    "\n",
    "    # Check if request was successful\n",
    "    if response.status_code == 200:\n",
    "        # Open file and save it\n",
    "        with open(filename, 'wb') as file:\n",
    "            file.write(response.content)\n",
    "        print(f'[INFO] the file has been downloaded and saved as {filename}')\n",
    "    else:\n",
    "        print(f\"[INFO] Failed to download the file. Status code: {response.status_code}\")\n",
    "else:\n",
    "    print(f\"File {pdf_path} exists.\")"
   ]
  },
  {
   "cell_type": "code",
   "execution_count": 3,
   "metadata": {},
   "outputs": [
    {
     "data": {
      "application/vnd.jupyter.widget-view+json": {
       "model_id": "8f9b6d43d70542649b7423abd2c16c88",
       "version_major": 2,
       "version_minor": 0
      },
      "text/plain": [
       "0it [00:00, ?it/s]"
      ]
     },
     "metadata": {},
     "output_type": "display_data"
    }
   ],
   "source": [
    "doc = fitz.open('/mnt/c/Documents and Settings/Graham/Desktop/Buddhist Texts/Thanissaro/Individual/AnguttaraNikaya210825.pdf')  \n",
    "from tqdm.auto import tqdm \n",
    "pages_and_texts = []\n",
    "for page_number, page in tqdm(enumerate(doc)):  # iterate the document pages\n",
    "    text = page.get_text()  # get plain text encoded as UTF-8\n",
    "    text = text.replace(\"\\n\", \" \").strip()\n",
    "    pages_and_texts.append({\"page_number\": page_number - 41,  # adjust page numbers since our PDF starts on page 42\n",
    "                            \"page_char_count\": len(text),\n",
    "                            \"page_word_count\": len(text.split(\" \")),\n",
    "                            \"page_sentence_count_raw\": len(text.split(\". \")),\n",
    "                            \"page_token_count\": len(text) / 4,  # 1 token = ~4 chars, see: https://help.openai.com/en/articles/4936856-what-are-tokens-and-how-to-count-them\n",
    "                            \"text\": text})"
   ]
  },
  {
   "cell_type": "code",
   "execution_count": 8,
   "metadata": {},
   "outputs": [
    {
     "data": {
      "text/plain": [
       "{'page_number': 49,\n",
       " 'page_char_count': 1859,\n",
       " 'page_word_count': 304,\n",
       " 'page_sentence_count_raw': 16,\n",
       " 'page_token_count': 464.75,\n",
       " 'text': '90 Sectarians Titthiya Sutta\\xa0\\xa0(AN\\xa03:69) “Monks, if you are asked by wanderers of other sects, ‘Friends, there are these three qualities. Which three? Passion, aversion, & delusion. These are the three qualities. Now what is the diﬀerence, what the distinction, what the distinguishing factor among these three qualities?’—when thus asked, how would you answer those wanderers of other sects?” “For us, lord, the teachings have the Blessed One as their root, their guide, & their arbitrator. It would be good if the Blessed One himself would explicate the meaning of this statement. Having heard it from the Blessed One, the monks will remember it.” “In that case, monks, listen & pay close attention. I will speak.” “As you say, lord,” the monks responded to him. The Blessed One said, “Monks, if you are asked by wanderers of other sects, ‘Friends, there are these three qualities. Which three? Passion, aversion, & delusion. These are the three qualities. Now what is the diﬀerence, what the distinction, what the distinguishing factor among these three qualities?’—when thus asked, you should answer those wanderers of other sects in this way, ‘Friends, passion carries little blame and is slow to fade. Aversion carries great blame and is quick to fade. Delusion carries great blame and is slow to fade. “(Then if they ask,) ‘But what, friends, is the reason, what the cause, why unarisen passion arises, or arisen passion tends to growth & abundance?’ ‘The theme of the attractive,’ it should be said. ‘For one who attends inappropriately to the theme of the attractive, unarisen passion arises and arisen passion tends to growth & abundance.…’ “(Then if they ask,) ‘But what, friends, is the reason, what the cause, why unarisen aversion arises, or arisen aversion tends to growth & abundance?’ ‘The theme of irritation,’ it should be said. ‘For one who'}"
      ]
     },
     "execution_count": 8,
     "metadata": {},
     "output_type": "execute_result"
    }
   ],
   "source": [
    "pages_and_texts[90]"
   ]
  },
  {
   "cell_type": "code",
   "execution_count": null,
   "metadata": {},
   "outputs": [],
   "source": []
  }
 ],
 "metadata": {
  "kernelspec": {
   "display_name": "venv_rag",
   "language": "python",
   "name": "python3"
  },
  "language_info": {
   "codemirror_mode": {
    "name": "ipython",
    "version": 3
   },
   "file_extension": ".py",
   "mimetype": "text/x-python",
   "name": "python",
   "nbconvert_exporter": "python",
   "pygments_lexer": "ipython3",
   "version": "3.10.12"
  }
 },
 "nbformat": 4,
 "nbformat_minor": 2
}

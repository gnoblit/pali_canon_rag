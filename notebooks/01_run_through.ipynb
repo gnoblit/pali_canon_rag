{
 "cells": [
  {
   "cell_type": "code",
   "execution_count": 1,
   "metadata": {},
   "outputs": [
    {
     "name": "stdout",
     "output_type": "stream",
     "text": [
      "File /mnt/c/Documents and Settings/Graham/Desktop/Buddhist Texts/Thanissaro/Individual/AnguttaraNikaya210825.pdf exists.\n"
     ]
    }
   ],
   "source": [
    "import os\n",
    "import requests\n",
    "\n",
    "# Get PDF document path\n",
    "pdf_path = '/mnt/c/Documents and Settings/Graham/Desktop/Buddhist Texts/Thanissaro/Individual/AnguttaraNikaya210825.pdf'\n",
    "url = 'https://www.dhammatalks.org/Archive/Writings/Ebooks/AnguttaraNikaya210825.pdf'\n",
    "\n",
    "# Download PDF\n",
    "if not os.path.exists(pdf_path):\n",
    "    print('[INFO] File does not exist, download...')\n",
    "\n",
    "    # Local filename to save downloaded file\n",
    "    filename = pdf_path\n",
    "\n",
    "    # Send a GET request to the URL\n",
    "    response = requests.get(url)\n",
    "\n",
    "    # Check if request was successful\n",
    "    if response.status_code == 200:\n",
    "        # Open file and save it\n",
    "        with open(filename, 'wb') as file:\n",
    "            file.write(response.content)\n",
    "        print(f'[INFO] the file has been downloaded and saved as {filename}')\n",
    "    else:\n",
    "        print(f\"[INFO] Failed to download the file. Status code: {response.status_code}\")\n",
    "else:\n",
    "    print(f\"File {pdf_path} exists.\")"
   ]
  },
  {
   "cell_type": "code",
   "execution_count": 5,
   "metadata": {},
   "outputs": [
    {
     "data": {
      "application/vnd.jupyter.widget-view+json": {
       "model_id": "ef33c121bd744b6f92f9f3cbe4c31999",
       "version_major": 2,
       "version_minor": 0
      },
      "text/plain": [
       "0it [00:00, ?it/s]"
      ]
     },
     "metadata": {},
     "output_type": "display_data"
    },
    {
     "data": {
      "text/plain": [
       "[{'page_number': 5,\n",
       "  'page_char_count': 623,\n",
       "  'page_word_count': 96,\n",
       "  'page_sentence_count_raw': 4,\n",
       "  'page_token_count': 155.75,\n",
       "  'text': '5 The Aṅguttara Nikāya, a collection of short to medium-length discourses, takes its name from the way the discourses are grouped by the number of their parts (aṅga), with the number growing progressively higher (uttara) with each group. No single English term can convey the full meaning of this name, although the translation Numerical Collection gives a workable idea of the principle behind it. The complete collection, counting all its formulaic expansions, contains more than 9,500 discourses. When these expansions are not counted, the total comes to approximately 2,300 discourses, of which 416 are translated here.'},\n",
       " {'page_number': 6,\n",
       "  'page_char_count': 1440,\n",
       "  'page_word_count': 246,\n",
       "  'page_sentence_count_raw': 19,\n",
       "  'page_token_count': 360.0,\n",
       "  'text': '6 Ones A Single Thing Ekadhamma Suttas\\xa0\\xa0(AN\\xa01:21–30, 39–40) 21. “I don’t envision a single thing that, when undeveloped, is as unpliant as the mind. The mind, when undeveloped, is unpliant.” 22. “I don’t envision a single thing that, when developed, is as pliant as the mind. The mind, when developed, is pliant.” 23. “I don’t envision a single thing that, when undeveloped, leads to such great harm as the mind. The mind, when undeveloped, leads to great harm.” 24. “I don’t envision a single thing that, when developed, leads to such great beneﬁt as the mind. The mind, when developed, leads to great beneﬁt.” 25. “I don’t envision a single thing that, when undeveloped & unapparent, leads to such great harm as the mind. The mind, when undeveloped & unapparent, leads to great harm.” 26. “I don’t envision a single thing that, when developed & apparent, leads to such great beneﬁt as the mind. The mind, when developed & apparent, leads to great beneﬁt.” 27. “I don’t envision a single thing that, when undeveloped & uncultivated, leads to such great harm as the mind. The mind, when undeveloped & uncultivated, leads to great harm.” 28. “I don’t envision a single thing that, when developed & cultivated, leads to such great beneﬁt as the mind. The mind, when developed & cultivated, leads to great beneﬁt.” 29. “I don’t envision a single thing that, when undeveloped & uncultivated, brings about such suﬀering & stress as the mind. The'},\n",
       " {'page_number': 7,\n",
       "  'page_char_count': 1762,\n",
       "  'page_word_count': 292,\n",
       "  'page_sentence_count_raw': 16,\n",
       "  'page_token_count': 440.5,\n",
       "  'text': '7 mind, when undeveloped & uncultivated, brings about suﬀering & stress.” 30. “I don’t envision a single thing that, when developed & cultivated, brings about such happiness as the mind. The mind, when developed & cultivated, brings about happiness.” 39. “I don’t envision a single thing that—when untamed, unguarded, unprotected, unrestrained—leads to such great harm as the mind. The mind—when untamed, unguarded, unprotected, unrestrained—leads to great harm.” 40. “I don’t envision a single thing that—when tamed, guarded, protected, restrained—leads to such great beneﬁt as the mind. The mind —when tamed, guarded, protected, restrained—leads to great beneﬁt.” A Pool of Water Udakarahada Suttas\\xa0\\xa0(AN\\xa01:45–46) 45. “Suppose there were a pool of water—sullied, turbid, and muddy. A man with good eyesight standing there on the bank would not see shells, gravel, and pebbles, or shoals of ﬁsh swimming about and resting. Why is that? Because of the sullied nature of the water. In the same way, that a monk with a sullied mind would know his own beneﬁt, the beneﬁt of others, the beneﬁt of both; that he would realize a superior human state, a truly noble distinction of knowledge & vision: Such a thing is impossible. Why is that? Because of the sullied nature of his mind.” 46. “Suppose there were a pool of water—clear, limpid, and unsullied. A man with good eyesight standing there on the bank would see shells, gravel, & pebbles, and also shoals of ﬁsh swimming about and resting. Why is that? Because of the unsullied nature of the water. In the same way, that a monk with an unsullied mind would know his own beneﬁt, the beneﬁt of others, the beneﬁt of both; that he would realize a superior human state, a truly noble distinction of knowledge & vision:'}]"
      ]
     },
     "execution_count": 5,
     "metadata": {},
     "output_type": "execute_result"
    }
   ],
   "source": [
    "import fitz\n",
    "from tqdm.auto import tqdm\n",
    "\n",
    "def text_formatter(text: str) -> str:\n",
    "    \"\"\"Performs minor formatting on text.\"\"\"\n",
    "    cleaned_text = text.replace(\"\\n\", \" \").strip()\n",
    "    return cleaned_text\n",
    "\n",
    "def open_and_read_pdf(pdf_path: str) -> list[dict]:\n",
    "    doc = fitz.open(pdf_path)\n",
    "    pages_and_text = []\n",
    "\n",
    "    for page_number, page in tqdm(enumerate(doc)):\n",
    "        text = page.get_text()\n",
    "        text = text_formatter(text=text)\n",
    "        pages_and_text.append(\n",
    "            {\n",
    "                \"page_number\": page_number,\n",
    "                \"page_char_count\": len(text),\n",
    "                \"page_word_count\": len(text.split(\" \")),\n",
    "                \"page_sentence_count_raw\": len(text.split(\". \")),\n",
    "                \"page_token_count\": len(text) / 4, # 1 token = approx 4 chars\n",
    "                \"text\": text})\n",
    "    return pages_and_text\n",
    "\n",
    "pages_and_texts = open_and_read_pdf(pdf_path=pdf_path)\n",
    "pages_and_texts[5:8]"
   ]
  },
  {
   "cell_type": "code",
   "execution_count": 6,
   "metadata": {},
   "outputs": [
    {
     "data": {
      "text/html": [
       "<div><style>\n",
       ".dataframe > thead > tr,\n",
       ".dataframe > tbody > tr {\n",
       "  text-align: right;\n",
       "  white-space: pre-wrap;\n",
       "}\n",
       "</style>\n",
       "<small>shape: (5, 6)</small><table border=\"1\" class=\"dataframe\"><thead><tr><th>page_number</th><th>page_char_count</th><th>page_word_count</th><th>page_sentence_count_raw</th><th>page_token_count</th><th>text</th></tr><tr><td>i64</td><td>i64</td><td>i64</td><td>i64</td><td>f64</td><td>str</td></tr></thead><tbody><tr><td>0</td><td>0</td><td>1</td><td>1</td><td>0.0</td><td>&quot;&quot;</td></tr><tr><td>1</td><td>122</td><td>17</td><td>1</td><td>30.5</td><td>&quot;1 HANDFULof LEAVES VOLUME FOUR…</td></tr><tr><td>2</td><td>1318</td><td>233</td><td>8</td><td>329.5</td><td>&quot;2 Once the Blessed One was sta…</td></tr><tr><td>3</td><td>779</td><td>113</td><td>7</td><td>194.75</td><td>&quot;3 Copyright 2014 Ṭhānissaro Bh…</td></tr><tr><td>4</td><td>659</td><td>107</td><td>5</td><td>164.75</td><td>&quot;4 Abbreviations AN Aṅguttara N…</td></tr></tbody></table></div>"
      ],
      "text/plain": [
       "shape: (5, 6)\n",
       "┌─────────────┬────────────────┬────────────────┬────────────────┬────────────────┬────────────────┐\n",
       "│ page_number ┆ page_char_coun ┆ page_word_coun ┆ page_sentence_ ┆ page_token_cou ┆ text           │\n",
       "│ ---         ┆ t              ┆ t              ┆ count_raw      ┆ nt             ┆ ---            │\n",
       "│ i64         ┆ ---            ┆ ---            ┆ ---            ┆ ---            ┆ str            │\n",
       "│             ┆ i64            ┆ i64            ┆ i64            ┆ f64            ┆                │\n",
       "╞═════════════╪════════════════╪════════════════╪════════════════╪════════════════╪════════════════╡\n",
       "│ 0           ┆ 0              ┆ 1              ┆ 1              ┆ 0.0            ┆                │\n",
       "│ 1           ┆ 122            ┆ 17             ┆ 1              ┆ 30.5           ┆ 1 HANDFULof    │\n",
       "│             ┆                ┆                ┆                ┆                ┆ LEAVES VOLUME  │\n",
       "│             ┆                ┆                ┆                ┆                ┆ FOUR…          │\n",
       "│ 2           ┆ 1318           ┆ 233            ┆ 8              ┆ 329.5          ┆ 2 Once the     │\n",
       "│             ┆                ┆                ┆                ┆                ┆ Blessed One    │\n",
       "│             ┆                ┆                ┆                ┆                ┆ was sta…       │\n",
       "│ 3           ┆ 779            ┆ 113            ┆ 7              ┆ 194.75         ┆ 3 Copyright    │\n",
       "│             ┆                ┆                ┆                ┆                ┆ 2014           │\n",
       "│             ┆                ┆                ┆                ┆                ┆ Ṭhānissaro Bh… │\n",
       "│ 4           ┆ 659            ┆ 107            ┆ 5              ┆ 164.75         ┆ 4              │\n",
       "│             ┆                ┆                ┆                ┆                ┆ Abbreviations  │\n",
       "│             ┆                ┆                ┆                ┆                ┆ AN Aṅguttara   │\n",
       "│             ┆                ┆                ┆                ┆                ┆ N…             │\n",
       "└─────────────┴────────────────┴────────────────┴────────────────┴────────────────┴────────────────┘"
      ]
     },
     "execution_count": 6,
     "metadata": {},
     "output_type": "execute_result"
    }
   ],
   "source": [
    "import polars as pl\n",
    "\n",
    "df = pl.from_dicts(pages_and_texts)\n",
    "df.head()\n",
    "\n"
   ]
  },
  {
   "cell_type": "code",
   "execution_count": 51,
   "metadata": {},
   "outputs": [
    {
     "data": {
      "text/html": [
       "<div><style>\n",
       ".dataframe > thead > tr,\n",
       ".dataframe > tbody > tr {\n",
       "  text-align: right;\n",
       "  white-space: pre-wrap;\n",
       "}\n",
       "</style>\n",
       "<small>shape: (9, 10)</small><table border=\"1\" class=\"dataframe\"><thead><tr><th>statistic</th><th>page_number</th><th>page_char_count</th><th>page_word_count</th><th>page_sentence_count_raw</th><th>page_token_count</th><th>sentences</th><th>page_sentence_count_spacy</th><th>sentence_chunks</th><th>num_chunks</th></tr><tr><td>str</td><td>f64</td><td>f64</td><td>f64</td><td>f64</td><td>f64</td><td>f64</td><td>f64</td><td>f64</td><td>f64</td></tr></thead><tbody><tr><td>&quot;count&quot;</td><td>800.0</td><td>800.0</td><td>800.0</td><td>800.0</td><td>800.0</td><td>800.0</td><td>800.0</td><td>800.0</td><td>800.0</td></tr><tr><td>&quot;null_count&quot;</td><td>0.0</td><td>0.0</td><td>0.0</td><td>0.0</td><td>0.0</td><td>0.0</td><td>0.0</td><td>0.0</td><td>0.0</td></tr><tr><td>&quot;mean&quot;</td><td>399.5</td><td>1861.81</td><td>314.76</td><td>12.66</td><td>465.45</td><td>null</td><td>17.14</td><td>null</td><td>1.07</td></tr><tr><td>&quot;std&quot;</td><td>231.08</td><td>412.91</td><td>74.92</td><td>5.25</td><td>103.23</td><td>null</td><td>6.07</td><td>null</td><td>0.26</td></tr><tr><td>&quot;min&quot;</td><td>0.0</td><td>0.0</td><td>1.0</td><td>1.0</td><td>0.0</td><td>null</td><td>0.0</td><td>null</td><td>0.0</td></tr><tr><td>&quot;25%&quot;</td><td>200.0</td><td>1652.0</td><td>272.0</td><td>9.0</td><td>413.0</td><td>null</td><td>14.0</td><td>null</td><td>1.0</td></tr><tr><td>&quot;50%&quot;</td><td>400.0</td><td>1898.0</td><td>322.0</td><td>12.0</td><td>474.5</td><td>null</td><td>17.0</td><td>null</td><td>1.0</td></tr><tr><td>&quot;75%&quot;</td><td>599.0</td><td>2199.0</td><td>372.0</td><td>16.0</td><td>549.75</td><td>null</td><td>21.0</td><td>null</td><td>1.0</td></tr><tr><td>&quot;max&quot;</td><td>799.0</td><td>2578.0</td><td>537.0</td><td>36.0</td><td>644.5</td><td>null</td><td>43.0</td><td>null</td><td>2.0</td></tr></tbody></table></div>"
      ],
      "text/plain": [
       "shape: (9, 10)\n",
       "┌───────────┬───────────┬───────────┬───────────┬───┬───────────┬───────────┬───────────┬──────────┐\n",
       "│ statistic ┆ page_numb ┆ page_char ┆ page_word ┆ … ┆ sentences ┆ page_sent ┆ sentence_ ┆ num_chun │\n",
       "│ ---       ┆ er        ┆ _count    ┆ _count    ┆   ┆ ---       ┆ ence_coun ┆ chunks    ┆ ks       │\n",
       "│ str       ┆ ---       ┆ ---       ┆ ---       ┆   ┆ f64       ┆ t_spacy   ┆ ---       ┆ ---      │\n",
       "│           ┆ f64       ┆ f64       ┆ f64       ┆   ┆           ┆ ---       ┆ f64       ┆ f64      │\n",
       "│           ┆           ┆           ┆           ┆   ┆           ┆ f64       ┆           ┆          │\n",
       "╞═══════════╪═══════════╪═══════════╪═══════════╪═══╪═══════════╪═══════════╪═══════════╪══════════╡\n",
       "│ count     ┆ 800.0     ┆ 800.0     ┆ 800.0     ┆ … ┆ 800.0     ┆ 800.0     ┆ 800.0     ┆ 800.0    │\n",
       "│ null_coun ┆ 0.0       ┆ 0.0       ┆ 0.0       ┆ … ┆ 0.0       ┆ 0.0       ┆ 0.0       ┆ 0.0      │\n",
       "│ t         ┆           ┆           ┆           ┆   ┆           ┆           ┆           ┆          │\n",
       "│ mean      ┆ 399.5     ┆ 1861.81   ┆ 314.76    ┆ … ┆ null      ┆ 17.14     ┆ null      ┆ 1.07     │\n",
       "│ std       ┆ 231.08    ┆ 412.91    ┆ 74.92     ┆ … ┆ null      ┆ 6.07      ┆ null      ┆ 0.26     │\n",
       "│ min       ┆ 0.0       ┆ 0.0       ┆ 1.0       ┆ … ┆ null      ┆ 0.0       ┆ null      ┆ 0.0      │\n",
       "│ 25%       ┆ 200.0     ┆ 1652.0    ┆ 272.0     ┆ … ┆ null      ┆ 14.0      ┆ null      ┆ 1.0      │\n",
       "│ 50%       ┆ 400.0     ┆ 1898.0    ┆ 322.0     ┆ … ┆ null      ┆ 17.0      ┆ null      ┆ 1.0      │\n",
       "│ 75%       ┆ 599.0     ┆ 2199.0    ┆ 372.0     ┆ … ┆ null      ┆ 21.0      ┆ null      ┆ 1.0      │\n",
       "│ max       ┆ 799.0     ┆ 2578.0    ┆ 537.0     ┆ … ┆ null      ┆ 43.0      ┆ null      ┆ 2.0      │\n",
       "└───────────┴───────────┴───────────┴───────────┴───┴───────────┴───────────┴───────────┴──────────┘"
      ]
     },
     "execution_count": 51,
     "metadata": {},
     "output_type": "execute_result"
    }
   ],
   "source": [
    "import polars.selectors as cs\n",
    "df.describe().with_columns(cs.numeric().round(2)).drop('text')"
   ]
  },
  {
   "cell_type": "code",
   "execution_count": 20,
   "metadata": {},
   "outputs": [
    {
     "data": {
      "text/plain": [
       "[This is a sentence., I like elephants., Are you a Ph.D.?, That was a test.]"
      ]
     },
     "execution_count": 20,
     "metadata": {},
     "output_type": "execute_result"
    }
   ],
   "source": [
    "from spacy.lang.en import English\n",
    "\n",
    "nlp = English()\n",
    "\n",
    "# Create pipeline\n",
    "## Add a sentencizer\n",
    "nlp.add_pipe(\"sentencizer\")\n",
    "\n",
    "## Create document instance as an example\n",
    "doc = nlp(\"This is a sentence. I like elephants. Are you a Ph.D.? That was a test.\")\n",
    "assert len(list(doc.sents)) == 4\n",
    "\n",
    "## Print out our sentences pslit\n",
    "list(doc.sents)"
   ]
  },
  {
   "cell_type": "code",
   "execution_count": 26,
   "metadata": {},
   "outputs": [
    {
     "data": {
      "application/vnd.jupyter.widget-view+json": {
       "model_id": "358cf0b9bd7349b2a2c92f6267e151b8",
       "version_major": 2,
       "version_minor": 0
      },
      "text/plain": [
       "  0%|          | 0/800 [00:00<?, ?it/s]"
      ]
     },
     "metadata": {},
     "output_type": "display_data"
    }
   ],
   "source": [
    "for item in tqdm(pages_and_texts):\n",
    "    item[\"sentences\"] = list(nlp(item[\"text\"]).sents)\n",
    "\n",
    "    # Make sure all sentences are strings (default type is a spacy datatype)\n",
    "    item[\"sentences\"] = [str(sentence) for sentence in item[\"sentences\"]]\n",
    "\n",
    "    # Count sentences\n",
    "    item[\"page_sentence_count_spacy\"] = len(item[\"sentences\"])"
   ]
  },
  {
   "cell_type": "code",
   "execution_count": 27,
   "metadata": {},
   "outputs": [
    {
     "data": {
      "text/plain": [
       "{'page_number': 30,\n",
       " 'page_char_count': 2455,\n",
       " 'page_word_count': 424,\n",
       " 'page_sentence_count_raw': 14,\n",
       " 'page_token_count': 613.75,\n",
       " 'text': '30 Note 1. The Commentary identiﬁes “voice of another” (parato ghoso) as meaning, in the case of the ﬁrst sutta, the voice of another person teaching what is not true Dhamma, and in the case of the second sutta, the voice of another person teaching true Dhamma. However, Woodward’s translation for the PTS renders parato ghoso as “a voice from another world,” and in a footnote he interprets it as “clairaudience from another (world).” To summarize his reasoning: If ordinary speech were meant, the word vācā or vācī would have been used instead of ghoso; and if another person were meant, aññassa or aññatarassa would have been used instead of parato. Finally, he notes that this passage appears also in MN 43 following a statement of “abnormal powers,” which apparently is meant to show that, in context, this statement must refer to the type of psychic knowledge that derives from abnormal powers. There are several problems with this interpretation, the ﬁrst being that it leaves no room for an event happening many times in the Canon: people gaining right view simply on hearing the words of another person. One scholar has tried to get around this objection, saying that the voice from another world must refer to the voice of the Buddha or to one of the noble disciples who gained awakening on hearing the Buddha’s own voice. The implication here is that only the words of these two classes of people can inspire right view. This position, however, is disproved by the fact that in Mv.I.23.5 Ven. Sāriputta, who at that point has not yet met the Buddha, is able to inspire the arising of the Dhamma eye in Ven. Moggallāna. This passage appears in the long origin story leading up to the rules dealing with ordination, and makes an important point in validating the tradition of ordination: that a person who has not met the Buddha can still inspire right view and even awakening in the mind of another. So the Canon itself disproves both of these otherworldly interpretations of this statement. As for Woodward’s linguistic arguments: It is hard for a non-native speaker of a dead language to know the reasoning in the mind of a native speaker in that language, but it might have been the case that the Buddha avoided the word aññassa for “other” because it could have easily been confused for another meaning of aññassa, “pertaining to the knowledge of an arahant.” As for vācī and aññatarassa, neither of them ﬁts the context. Vācī is a stem-form',\n",
       " 'sentences': ['30 Note 1.',\n",
       "  'The Commentary identiﬁes “voice of another” (parato ghoso) as meaning, in the case of the ﬁrst sutta, the voice of another person teaching what is not true Dhamma, and in the case of the second sutta, the voice of another person teaching true Dhamma.',\n",
       "  'However, Woodward’s translation for the PTS renders parato ghoso as “a voice from another world,” and in a footnote he interprets it as “clairaudience from another (world).”',\n",
       "  'To summarize his reasoning: If ordinary speech were meant, the word vācā or vācī would have been used instead of ghoso; and if another person were meant, aññassa or aññatarassa would have been used instead of parato.',\n",
       "  'Finally, he notes that this passage appears also in MN 43 following a statement of “abnormal powers,” which apparently is meant to show that, in context, this statement must refer to the type of psychic knowledge that derives from abnormal powers.',\n",
       "  'There are several problems with this interpretation, the ﬁrst being that it leaves no room for an event happening many times in the Canon: people gaining right view simply on hearing the words of another person.',\n",
       "  'One scholar has tried to get around this objection, saying that the voice from another world must refer to the voice of the Buddha or to one of the noble disciples who gained awakening on hearing the Buddha’s own voice.',\n",
       "  'The implication here is that only the words of these two classes of people can inspire right view.',\n",
       "  'This position, however, is disproved by the fact that in Mv.',\n",
       "  'I.23.5 Ven.',\n",
       "  'Sāriputta, who at that point has not yet met the Buddha, is able to inspire the arising of the Dhamma eye in Ven.',\n",
       "  'Moggallāna.',\n",
       "  'This passage appears in the long origin story leading up to the rules dealing with ordination, and makes an important point in validating the tradition of ordination: that a person who has not met the Buddha can still inspire right view and even awakening in the mind of another.',\n",
       "  'So the Canon itself disproves both of these otherworldly interpretations of this statement.',\n",
       "  'As for Woodward’s linguistic arguments: It is hard for a non-native speaker of a dead language to know the reasoning in the mind of a native speaker in that language, but it might have been the case that the Buddha avoided the word aññassa for “other” because it could have easily been confused for another meaning of aññassa, “pertaining to the knowledge of an arahant.”',\n",
       "  'As for vācī and aññatarassa, neither of them ﬁts the context.',\n",
       "  'Vācī is a stem-form'],\n",
       " 'page_sentence_count_spacy': 17,\n",
       " 'sentence_chunks': [['30 Note 1.',\n",
       "   'The Commentary identiﬁes “voice of another” (parato ghoso) as meaning, in the case of the ﬁrst sutta, the voice of another person teaching what is not true Dhamma, and in the case of the second sutta, the voice of another person teaching true Dhamma.',\n",
       "   'However, Woodward’s translation for the PTS renders parato ghoso as “a voice from another world,” and in a footnote he interprets it as “clairaudience from another (world).”',\n",
       "   'To summarize his reasoning: If ordinary speech were meant, the word vācā or vācī would have been used instead of ghoso; and if another person were meant, aññassa or aññatarassa would have been used instead of parato.',\n",
       "   'Finally, he notes that this passage appears also in MN 43 following a statement of “abnormal powers,” which apparently is meant to show that, in context, this statement must refer to the type of psychic knowledge that derives from abnormal powers.',\n",
       "   'There are several problems with this interpretation, the ﬁrst being that it leaves no room for an event happening many times in the Canon: people gaining right view simply on hearing the words of another person.',\n",
       "   'One scholar has tried to get around this objection, saying that the voice from another world must refer to the voice of the Buddha or to one of the noble disciples who gained awakening on hearing the Buddha’s own voice.',\n",
       "   'The implication here is that only the words of these two classes of people can inspire right view.',\n",
       "   'This position, however, is disproved by the fact that in Mv.',\n",
       "   'I.23.5 Ven.'],\n",
       "  ['Sāriputta, who at that point has not yet met the Buddha, is able to inspire the arising of the Dhamma eye in Ven.',\n",
       "   'Moggallāna.',\n",
       "   'This passage appears in the long origin story leading up to the rules dealing with ordination, and makes an important point in validating the tradition of ordination: that a person who has not met the Buddha can still inspire right view and even awakening in the mind of another.',\n",
       "   'So the Canon itself disproves both of these otherworldly interpretations of this statement.',\n",
       "   'As for Woodward’s linguistic arguments: It is hard for a non-native speaker of a dead language to know the reasoning in the mind of a native speaker in that language, but it might have been the case that the Buddha avoided the word aññassa for “other” because it could have easily been confused for another meaning of aññassa, “pertaining to the knowledge of an arahant.”',\n",
       "   'As for vācī and aññatarassa, neither of them ﬁts the context.',\n",
       "   'Vācī is a stem-form']],\n",
       " 'num_chunks': 2}"
      ]
     },
     "execution_count": 27,
     "metadata": {},
     "output_type": "execute_result"
    }
   ],
   "source": [
    "pages_and_texts[30]"
   ]
  },
  {
   "cell_type": "code",
   "execution_count": 100,
   "metadata": {},
   "outputs": [],
   "source": [
    "# Chunking sentences together\n",
    "num_sentence_chunk_size = 10\n",
    "\n",
    "# Create function to split list of texts recursively into chunk size\n",
    "# e.g. [20] -> [10, 10]\n",
    "def split_list(input_list: list[str],\n",
    "               slice_size: int=num_sentence_chunk_size) -> list[list[str]]:\n",
    "    return [input_list[i : i + slice_size] for i in range(0, len(input_list), slice_size)]\n",
    "\n"
   ]
  },
  {
   "cell_type": "code",
   "execution_count": 101,
   "metadata": {},
   "outputs": [
    {
     "data": {
      "application/vnd.jupyter.widget-view+json": {
       "model_id": "2fe18068e3b64bd1981bc20cc6b81e8f",
       "version_major": 2,
       "version_minor": 0
      },
      "text/plain": [
       "  0%|          | 0/800 [00:00<?, ?it/s]"
      ]
     },
     "metadata": {},
     "output_type": "display_data"
    }
   ],
   "source": [
    "# Loop through pages and texts and split sentences into chunks\n",
    "\n",
    "for item in tqdm(pages_and_texts):\n",
    "    item[\"sentence_chunks\"] = split_list(input_list=item['sentences'],\n",
    "                                         slice_size=num_sentence_chunk_size)\n",
    "    item[\"num_chunks\"] = len(item[\"sentence_chunks\"])"
   ]
  },
  {
   "cell_type": "code",
   "execution_count": 102,
   "metadata": {},
   "outputs": [
    {
     "data": {
      "text/plain": [
       "{'page_number': 35,\n",
       " 'page_char_count': 1706,\n",
       " 'page_word_count': 313,\n",
       " 'page_sentence_count_raw': 12,\n",
       " 'page_token_count': 426.5,\n",
       " 'text': '35 See also: AN 5:254–259; Dhp XVIII The Chariot Maker Pacetana Sutta\\xa0\\xa0(AN\\xa03:15) On one occasion the Blessed One was staying near Vārāṇasī in the Deer Park at Isipatana. There he addressed the monks: “Monks!” “Yes, lord,” the monks responded to him. The Blessed One said: “Once, monks, there was a king named Pacetana. One day King Pacetana said to his chariot maker, ‘My good chariot maker, in six months time from now a battle will take place. Can you make me a new pair of chariot wheels?’ “‘Yes, your majesty, I can,’ the chariot maker replied to the king. “Then in six months minus six days the chariot maker ﬁnished one wheel. King Pacetana said to him, ‘In six days time from now the battle will take place. Will the pair of chariot wheels be ﬁnished?’ “‘Your majesty, in these six months minus six days, I have ﬁnished one wheel.’ “‘But can you ﬁnish the second wheel in these six days?’ “‘Yes, your majesty, I can,’ the chariot maker replied to the king. Then, after ﬁnishing the second wheel in six days, the chariot maker took the pair of wheels to the king and, on arrival, said to him, ‘Here is your new pair of chariot wheels all ﬁnished, your majesty.’ “‘And what is the diﬀerence between your wheel that took six months minus six days to ﬁnish, and your wheel that took six days to ﬁnish? I don’t see any diﬀerence between them at all.’ “‘There is a diﬀerence between them, your majesty. Look at the diﬀerence.’ Then the chariot maker took the chariot wheel that took six days to ﬁnish and set it rolling. Going as far as its momentum carried it, it twirled around and around and fell to the ground. But then he took the chariot wheel that took six months minus six days to ﬁnish and set it',\n",
       " 'sentences': ['35 See also: AN 5:254–259; Dhp XVIII The Chariot Maker Pacetana Sutta\\xa0\\xa0(AN\\xa03:15) On one occasion the Blessed One was staying near Vārāṇasī in the Deer Park at Isipatana.',\n",
       "  'There he addressed the monks: “Monks!” “',\n",
       "  'Yes, lord,” the monks responded to him.',\n",
       "  'The Blessed One said: “Once, monks, there was a king named Pacetana.',\n",
       "  'One day King Pacetana said to his chariot maker, ‘My good chariot maker, in six months time from now a battle will take place.',\n",
       "  'Can you make me a new pair of chariot wheels?’ “‘',\n",
       "  'Yes, your majesty, I can,’ the chariot maker replied to the king. “',\n",
       "  'Then in six months minus six days the chariot maker ﬁnished one wheel.',\n",
       "  'King Pacetana said to him, ‘In six days time from now the battle will take place.',\n",
       "  'Will the pair of chariot wheels be ﬁnished?’ “‘',\n",
       "  'Your majesty, in these six months minus six days, I have ﬁnished one wheel.’ “‘',\n",
       "  'But can you ﬁnish the second wheel in these six days?’ “‘',\n",
       "  'Yes, your majesty, I can,’ the chariot maker replied to the king.',\n",
       "  'Then, after ﬁnishing the second wheel in six days, the chariot maker took the pair of wheels to the king and, on arrival, said to him, ‘Here is your new pair of chariot wheels all ﬁnished, your majesty.’ “‘',\n",
       "  'And what is the diﬀerence between your wheel that took six months minus six days to ﬁnish, and your wheel that took six days to ﬁnish?',\n",
       "  'I don’t see any diﬀerence between them at all.’ “‘',\n",
       "  'There is a diﬀerence between them, your majesty.',\n",
       "  'Look at the diﬀerence.’',\n",
       "  'Then the chariot maker took the chariot wheel that took six days to ﬁnish and set it rolling.',\n",
       "  'Going as far as its momentum carried it, it twirled around and around and fell to the ground.',\n",
       "  'But then he took the chariot wheel that took six months minus six days to ﬁnish and set it'],\n",
       " 'page_sentence_count_spacy': 21,\n",
       " 'sentence_chunks': [['35 See also: AN 5:254–259; Dhp XVIII The Chariot Maker Pacetana Sutta\\xa0\\xa0(AN\\xa03:15) On one occasion the Blessed One was staying near Vārāṇasī in the Deer Park at Isipatana.',\n",
       "   'There he addressed the monks: “Monks!” “',\n",
       "   'Yes, lord,” the monks responded to him.',\n",
       "   'The Blessed One said: “Once, monks, there was a king named Pacetana.',\n",
       "   'One day King Pacetana said to his chariot maker, ‘My good chariot maker, in six months time from now a battle will take place.',\n",
       "   'Can you make me a new pair of chariot wheels?’ “‘',\n",
       "   'Yes, your majesty, I can,’ the chariot maker replied to the king. “',\n",
       "   'Then in six months minus six days the chariot maker ﬁnished one wheel.',\n",
       "   'King Pacetana said to him, ‘In six days time from now the battle will take place.',\n",
       "   'Will the pair of chariot wheels be ﬁnished?’ “‘'],\n",
       "  ['Your majesty, in these six months minus six days, I have ﬁnished one wheel.’ “‘',\n",
       "   'But can you ﬁnish the second wheel in these six days?’ “‘',\n",
       "   'Yes, your majesty, I can,’ the chariot maker replied to the king.',\n",
       "   'Then, after ﬁnishing the second wheel in six days, the chariot maker took the pair of wheels to the king and, on arrival, said to him, ‘Here is your new pair of chariot wheels all ﬁnished, your majesty.’ “‘',\n",
       "   'And what is the diﬀerence between your wheel that took six months minus six days to ﬁnish, and your wheel that took six days to ﬁnish?',\n",
       "   'I don’t see any diﬀerence between them at all.’ “‘',\n",
       "   'There is a diﬀerence between them, your majesty.',\n",
       "   'Look at the diﬀerence.’',\n",
       "   'Then the chariot maker took the chariot wheel that took six days to ﬁnish and set it rolling.',\n",
       "   'Going as far as its momentum carried it, it twirled around and around and fell to the ground.'],\n",
       "  ['But then he took the chariot wheel that took six months minus six days to ﬁnish and set it']],\n",
       " 'num_chunks': 3}"
      ]
     },
     "execution_count": 102,
     "metadata": {},
     "output_type": "execute_result"
    }
   ],
   "source": [
    "pages_and_texts[35]"
   ]
  },
  {
   "cell_type": "code",
   "execution_count": 103,
   "metadata": {},
   "outputs": [
    {
     "data": {
      "application/vnd.jupyter.widget-view+json": {
       "model_id": "d00c6b8f758b4729be0ac6060e6f377c",
       "version_major": 2,
       "version_minor": 0
      },
      "text/plain": [
       "  0%|          | 0/800 [00:00<?, ?it/s]"
      ]
     },
     "metadata": {},
     "output_type": "display_data"
    },
    {
     "data": {
      "text/plain": [
       "(1733, 800)"
      ]
     },
     "execution_count": 103,
     "metadata": {},
     "output_type": "execute_result"
    }
   ],
   "source": [
    "import re\n",
    "\n",
    "# Break each chunk into its own item\n",
    "\n",
    "pages_and_chunks = []\n",
    "\n",
    "for item in tqdm(pages_and_texts):\n",
    "    for sentence_chunk in item[\"sentence_chunks\"]:\n",
    "        chunk_dict = {}\n",
    "        chunk_dict[\"page_number\"] = item[\"page_number\"]\n",
    "\n",
    "        # Join sentences into paragraph\n",
    "\n",
    "        joined_sentence_chunk = \" \".join(sentence_chunk).replace(\"  \", \" \").strip()\n",
    "        \n",
    "        chunk_dict[\"sentence_chunk\"] = joined_sentence_chunk\n",
    "\n",
    "        # Get some stats on chunk\n",
    "        chunk_dict[\"chunk_char_count\"] = len(joined_sentence_chunk)\n",
    "        chunk_dict[\"chunk_word_count\"] = len([word for word in joined_sentence_chunk.split(\" \")])\n",
    "        chunk_dict[\"chunk_token_count\"] = len(joined_sentence_chunk) / 4\n",
    "\n",
    "        pages_and_chunks.append(chunk_dict)\n",
    "\n",
    "len(pages_and_chunks), len(pages_and_texts)"
   ]
  },
  {
   "cell_type": "code",
   "execution_count": 104,
   "metadata": {},
   "outputs": [
    {
     "data": {
      "text/html": [
       "<div><style>\n",
       ".dataframe > thead > tr,\n",
       ".dataframe > tbody > tr {\n",
       "  text-align: right;\n",
       "  white-space: pre-wrap;\n",
       "}\n",
       "</style>\n",
       "<small>shape: (9, 6)</small><table border=\"1\" class=\"dataframe\"><thead><tr><th>statistic</th><th>page_number</th><th>sentence_chunk</th><th>chunk_char_count</th><th>chunk_word_count</th><th>chunk_token_count</th></tr><tr><td>str</td><td>f64</td><td>str</td><td>f64</td><td>f64</td><td>f64</td></tr></thead><tbody><tr><td>&quot;count&quot;</td><td>1733.0</td><td>&quot;1733&quot;</td><td>1733.0</td><td>1733.0</td><td>1733.0</td></tr><tr><td>&quot;null_count&quot;</td><td>0.0</td><td>&quot;0&quot;</td><td>0.0</td><td>0.0</td><td>0.0</td></tr><tr><td>&quot;mean&quot;</td><td>398.27</td><td>null</td><td>860.71</td><td>147.09</td><td>215.18</td></tr><tr><td>&quot;std&quot;</td><td>227.75</td><td>null</td><td>443.73</td><td>75.83</td><td>110.93</td></tr><tr><td>&quot;min&quot;</td><td>1.0</td><td>&quot;* * There Ven. Sāriputta addre…</td><td>4.0</td><td>1.0</td><td>1.0</td></tr><tr><td>&quot;25%&quot;</td><td>205.0</td><td>null</td><td>550.0</td><td>95.0</td><td>137.5</td></tr><tr><td>&quot;50%&quot;</td><td>395.0</td><td>null</td><td>846.0</td><td>145.0</td><td>211.5</td></tr><tr><td>&quot;75%&quot;</td><td>596.0</td><td>null</td><td>1130.0</td><td>192.0</td><td>282.5</td></tr><tr><td>&quot;max&quot;</td><td>799.0</td><td>&quot;”5 Notes&quot;</td><td>2403.0</td><td>540.0</td><td>600.75</td></tr></tbody></table></div>"
      ],
      "text/plain": [
       "shape: (9, 6)\n",
       "┌────────────┬─────────────┬─────────────────┬─────────────────┬─────────────────┬─────────────────┐\n",
       "│ statistic  ┆ page_number ┆ sentence_chunk  ┆ chunk_char_coun ┆ chunk_word_coun ┆ chunk_token_cou │\n",
       "│ ---        ┆ ---         ┆ ---             ┆ t               ┆ t               ┆ nt              │\n",
       "│ str        ┆ f64         ┆ str             ┆ ---             ┆ ---             ┆ ---             │\n",
       "│            ┆             ┆                 ┆ f64             ┆ f64             ┆ f64             │\n",
       "╞════════════╪═════════════╪═════════════════╪═════════════════╪═════════════════╪═════════════════╡\n",
       "│ count      ┆ 1733.0      ┆ 1733            ┆ 1733.0          ┆ 1733.0          ┆ 1733.0          │\n",
       "│ null_count ┆ 0.0         ┆ 0               ┆ 0.0             ┆ 0.0             ┆ 0.0             │\n",
       "│ mean       ┆ 398.27      ┆ null            ┆ 860.71          ┆ 147.09          ┆ 215.18          │\n",
       "│ std        ┆ 227.75      ┆ null            ┆ 443.73          ┆ 75.83           ┆ 110.93          │\n",
       "│ min        ┆ 1.0         ┆ * * There Ven.  ┆ 4.0             ┆ 1.0             ┆ 1.0             │\n",
       "│            ┆             ┆ Sāriputta       ┆                 ┆                 ┆                 │\n",
       "│            ┆             ┆ addre…          ┆                 ┆                 ┆                 │\n",
       "│ 25%        ┆ 205.0       ┆ null            ┆ 550.0           ┆ 95.0            ┆ 137.5           │\n",
       "│ 50%        ┆ 395.0       ┆ null            ┆ 846.0           ┆ 145.0           ┆ 211.5           │\n",
       "│ 75%        ┆ 596.0       ┆ null            ┆ 1130.0          ┆ 192.0           ┆ 282.5           │\n",
       "│ max        ┆ 799.0       ┆ ”5 Notes        ┆ 2403.0          ┆ 540.0           ┆ 600.75          │\n",
       "└────────────┴─────────────┴─────────────────┴─────────────────┴─────────────────┴─────────────────┘"
      ]
     },
     "execution_count": 104,
     "metadata": {},
     "output_type": "execute_result"
    }
   ],
   "source": [
    "df = pl.from_dicts(pages_and_chunks)\n",
    "df.describe().with_columns(cs.numeric().round(2))"
   ]
  },
  {
   "cell_type": "code",
   "execution_count": 105,
   "metadata": {},
   "outputs": [],
   "source": [
    "# Filter short chunks\n",
    "min_token_length = 9\n",
    "pages_and_chunks_over_min_token_len = df.filter(pl.col(\"chunk_token_count\") > min_token_length).to_dicts()"
   ]
  },
  {
   "cell_type": "code",
   "execution_count": 106,
   "metadata": {},
   "outputs": [
    {
     "data": {
      "application/vnd.jupyter.widget-view+json": {
       "model_id": "edd52b4266a04ef5bd542e3e460a4a88",
       "version_major": 2,
       "version_minor": 0
      },
      "text/plain": [
       "modules.json:   0%|          | 0.00/349 [00:00<?, ?B/s]"
      ]
     },
     "metadata": {},
     "output_type": "display_data"
    },
    {
     "data": {
      "application/vnd.jupyter.widget-view+json": {
       "model_id": "87af78a04685460ead47fa6c86c6b6b4",
       "version_major": 2,
       "version_minor": 0
      },
      "text/plain": [
       "config_sentence_transformers.json:   0%|          | 0.00/116 [00:00<?, ?B/s]"
      ]
     },
     "metadata": {},
     "output_type": "display_data"
    },
    {
     "data": {
      "application/vnd.jupyter.widget-view+json": {
       "model_id": "abfa2f9ef978401fa1bf66138193fee8",
       "version_major": 2,
       "version_minor": 0
      },
      "text/plain": [
       "README.md:   0%|          | 0.00/10.6k [00:00<?, ?B/s]"
      ]
     },
     "metadata": {},
     "output_type": "display_data"
    },
    {
     "data": {
      "application/vnd.jupyter.widget-view+json": {
       "model_id": "afc1879c5112495b81309b2a96024c49",
       "version_major": 2,
       "version_minor": 0
      },
      "text/plain": [
       "sentence_bert_config.json:   0%|          | 0.00/53.0 [00:00<?, ?B/s]"
      ]
     },
     "metadata": {},
     "output_type": "display_data"
    },
    {
     "data": {
      "application/vnd.jupyter.widget-view+json": {
       "model_id": "cb8758c38da84b66854e3c9c4efb1483",
       "version_major": 2,
       "version_minor": 0
      },
      "text/plain": [
       "config.json:   0%|          | 0.00/571 [00:00<?, ?B/s]"
      ]
     },
     "metadata": {},
     "output_type": "display_data"
    },
    {
     "data": {
      "application/vnd.jupyter.widget-view+json": {
       "model_id": "5aac57ccb9d64650ad45e92666b802c2",
       "version_major": 2,
       "version_minor": 0
      },
      "text/plain": [
       "model.safetensors:   0%|          | 0.00/438M [00:00<?, ?B/s]"
      ]
     },
     "metadata": {},
     "output_type": "display_data"
    },
    {
     "data": {
      "application/vnd.jupyter.widget-view+json": {
       "model_id": "05bd2b89f7b246a68b79b0a48693af99",
       "version_major": 2,
       "version_minor": 0
      },
      "text/plain": [
       "tokenizer_config.json:   0%|          | 0.00/363 [00:00<?, ?B/s]"
      ]
     },
     "metadata": {},
     "output_type": "display_data"
    },
    {
     "data": {
      "application/vnd.jupyter.widget-view+json": {
       "model_id": "e64443b275844edb818ec9a15722c904",
       "version_major": 2,
       "version_minor": 0
      },
      "text/plain": [
       "vocab.txt:   0%|          | 0.00/232k [00:00<?, ?B/s]"
      ]
     },
     "metadata": {},
     "output_type": "display_data"
    },
    {
     "data": {
      "application/vnd.jupyter.widget-view+json": {
       "model_id": "fca9749acc724f779f02f4be0048e34b",
       "version_major": 2,
       "version_minor": 0
      },
      "text/plain": [
       "tokenizer.json:   0%|          | 0.00/466k [00:00<?, ?B/s]"
      ]
     },
     "metadata": {},
     "output_type": "display_data"
    },
    {
     "data": {
      "application/vnd.jupyter.widget-view+json": {
       "model_id": "ef86299c37684abebf3a8b8f3b4dead1",
       "version_major": 2,
       "version_minor": 0
      },
      "text/plain": [
       "special_tokens_map.json:   0%|          | 0.00/239 [00:00<?, ?B/s]"
      ]
     },
     "metadata": {},
     "output_type": "display_data"
    },
    {
     "name": "stderr",
     "output_type": "stream",
     "text": [
      "/home/graham/projects/buddhism/rag/venv_rag/lib/python3.10/site-packages/transformers/tokenization_utils_base.py:1617: FutureWarning: `clean_up_tokenization_spaces` was not set. It will be set to `True` by default. This behavior will be deprecated in transformers v4.45, and will be then set to `False` by default. For more details check this issue: https://github.com/huggingface/transformers/issues/31884\n",
      "  warnings.warn(\n"
     ]
    },
    {
     "data": {
      "application/vnd.jupyter.widget-view+json": {
       "model_id": "1bb5b5b520344037847897398d473433",
       "version_major": 2,
       "version_minor": 0
      },
      "text/plain": [
       "1_Pooling/config.json:   0%|          | 0.00/190 [00:00<?, ?B/s]"
      ]
     },
     "metadata": {},
     "output_type": "display_data"
    }
   ],
   "source": [
    "# Embedding our text chunks\n",
    "from sentence_transformers import SentenceTransformer\n",
    "embedding_model = SentenceTransformer(model_name_or_path=\"all-mpnet-base-v2\",\n",
    "                                      device=\"cuda\")\n",
    "# Create list of sentences to embed\n",
    "sentences = [\"The sentence transformer library provides an easy way to create embeddings\", \n",
    "             \"Sentences can be embedded one by one or in a list\",\n",
    "             \"I like horses!\"]"
   ]
  },
  {
   "cell_type": "code",
   "execution_count": 107,
   "metadata": {},
   "outputs": [
    {
     "name": "stdout",
     "output_type": "stream",
     "text": [
      "\n",
      "        Sentence: The sentence transformer library provides an easy way to create embeddings\n",
      "        Embedding: [-3.17512304e-02  3.37267853e-02 -2.52437647e-02  5.22287488e-02\n",
      " -2.35248804e-02 -6.19115215e-03  1.35026276e-02 -6.25500977e-02\n",
      "  7.50827370e-03 -2.29684655e-02  2.98146866e-02  4.57555130e-02\n",
      " -3.26700322e-02  1.39847239e-02  4.18013707e-02 -5.92969656e-02\n",
      "  4.26309742e-02  5.04660280e-03 -2.44552512e-02  3.98593862e-03\n",
      "  3.55897620e-02  2.78742872e-02  1.84098538e-02  3.67700048e-02\n",
      " -2.29961146e-02 -3.01796924e-02  5.99531224e-04 -3.64503898e-02\n",
      "  5.69104962e-02 -7.49941031e-03 -3.70004326e-02 -3.04357521e-03\n",
      "  4.64354642e-02  2.36146804e-03  9.06849664e-07  7.00035505e-03\n",
      " -3.92289869e-02 -5.95697295e-03  1.38653144e-02  1.87111693e-03\n",
      "  5.34202456e-02 -6.18613586e-02  2.19613202e-02  4.86051254e-02\n",
      " -4.25697677e-02 -1.69858914e-02  5.04178405e-02  1.54733825e-02\n",
      "  8.12859759e-02  5.07106222e-02 -2.27497108e-02 -4.35721017e-02\n",
      " -2.18388741e-03 -2.14091744e-02 -2.01758333e-02  3.06832362e-02\n",
      " -3.51334177e-02 -1.37515860e-02 -1.47074619e-02  3.83924097e-02\n",
      " -3.63251232e-02  4.24920470e-02  6.66148774e-03 -3.98762152e-02\n",
      "  7.14551881e-02 -1.35859167e-02 -6.60983622e-02 -8.44918657e-03\n",
      "  4.74620564e-03  6.11576773e-02  2.99048191e-03 -2.55231019e-02\n",
      " -3.34806219e-02 -8.53996351e-03  3.12245395e-02  2.98416596e-02\n",
      " -4.85905297e-02 -1.11949015e-02  7.23602399e-02  3.28173526e-02\n",
      "  1.77805987e-03  5.02721779e-02  2.30483096e-02 -4.10619676e-02\n",
      " -3.49084288e-02 -4.36537005e-02  5.07546552e-02 -4.66824621e-02\n",
      " -3.67540680e-02 -2.16351189e-02 -8.07574112e-03  2.78771687e-02\n",
      "  3.41443941e-02 -2.42737290e-02  9.37789027e-03  1.27494242e-02\n",
      " -7.16165081e-02 -3.23408097e-02 -8.06695689e-03 -2.30583157e-02\n",
      "  6.39591664e-02  1.22526279e-02 -1.84586470e-03  4.58421279e-03\n",
      " -8.37130994e-02  6.05704077e-02 -3.02920374e-03 -4.53544687e-03\n",
      " -2.79873982e-02 -2.37171184e-02 -4.24651243e-02 -1.20252836e-02\n",
      " -6.66096732e-02  6.39967527e-03 -1.92156285e-02 -6.99941367e-02\n",
      " -4.53624800e-02  5.89808747e-02 -3.09234280e-02  2.02953834e-02\n",
      "  1.01700481e-02  1.30998958e-02  7.79708195e-03  2.21275687e-02\n",
      " -9.14817117e-03  1.98615789e-02 -2.74216160e-02 -2.36939397e-02\n",
      " -2.22198814e-02  2.53693201e-02 -3.28816213e-02  5.13044856e-02\n",
      "  6.19512573e-02 -7.44253770e-03 -4.78575565e-02  9.91817378e-03\n",
      "  1.66845508e-02 -3.57198827e-02  3.01709641e-02  4.00398299e-02\n",
      " -5.39116748e-03  1.51401060e-02  5.59861911e-03 -4.78387512e-02\n",
      "  6.58323094e-02  2.69618095e-03  1.13033690e-02 -4.28623296e-02\n",
      "  2.22742725e-02  2.74195503e-02 -5.09938039e-02  1.17162697e-01\n",
      "  1.34981778e-02 -3.71388383e-02 -6.41477630e-02 -2.63016578e-02\n",
      "  7.84800425e-02  5.48546165e-02  5.46071120e-02 -9.82330739e-03\n",
      "  5.09110764e-02 -3.13037657e-04 -6.86392561e-03  1.70785431e-02\n",
      " -1.35589382e-02 -2.16215826e-03 -2.34772190e-02 -1.55509179e-02\n",
      " -8.23182985e-04  8.29926357e-02 -9.48118046e-03  7.00235218e-02\n",
      "  3.33340047e-03  1.47000793e-02  2.84736399e-02  6.13352284e-02\n",
      "  6.53134510e-02  1.27843572e-02  8.42677578e-02  2.58606244e-02\n",
      " -3.99191491e-02  2.62350962e-02 -3.68678942e-02  5.22657819e-02\n",
      "  1.86433345e-02  3.53657417e-02 -2.45989487e-02  8.81066620e-02\n",
      "  2.56003323e-03  5.99740352e-03 -2.03187596e-02 -3.80547717e-02\n",
      "  1.56885386e-02 -4.86830212e-02 -1.02307471e-02  5.31377308e-02\n",
      " -3.93921137e-02  5.00219390e-02 -4.20133676e-03 -6.84148446e-02\n",
      " -8.43474828e-03  3.83051112e-02  3.40058771e-03  6.75314367e-02\n",
      "  4.67102416e-02  1.85773857e-02  1.75162628e-02 -3.13067846e-02\n",
      " -3.83050703e-02  8.36634561e-02  3.01607661e-02 -1.63154323e-02\n",
      " -2.75368169e-02 -7.45281577e-02  3.94691825e-02 -1.40309523e-04\n",
      "  1.06907254e-02 -2.64681522e-02 -9.52938572e-03  2.35250238e-02\n",
      "  6.30769953e-02 -3.58120166e-02  3.75603996e-02  3.86090875e-02\n",
      " -2.86414009e-02 -2.03893781e-02  3.76567082e-03  2.92671416e-02\n",
      "  1.12931198e-02  3.38566676e-02 -1.25357378e-02  6.60268143e-02\n",
      "  6.35566711e-02 -4.86965105e-02 -4.31395099e-02  6.28765374e-02\n",
      " -2.69191749e-02 -8.75512809e-02  8.27586651e-03 -1.02666616e-01\n",
      "  2.47256160e-02  1.35637801e-02 -5.55753335e-03 -1.86809693e-02\n",
      " -1.44041730e-02 -8.57953727e-03  8.13291296e-02 -4.46740352e-02\n",
      " -4.09442419e-03  3.33538391e-02  4.34364304e-02 -3.02401241e-02\n",
      "  6.42343517e-03  4.94937524e-02  1.72628742e-02 -2.46238168e-02\n",
      " -2.80705318e-02 -1.87676551e-03  4.09031920e-02 -5.85706579e-03\n",
      " -1.95791610e-02  1.88910179e-02 -1.10969283e-02 -2.61494052e-02\n",
      " -3.96286923e-04  2.14644913e-02 -3.54525223e-02 -5.03614172e-02\n",
      "  2.74631195e-03  1.68064367e-02 -9.64397471e-03  1.37957670e-02\n",
      "  2.89547537e-02  1.18163573e-02  3.01219877e-02 -4.64622416e-02\n",
      "  1.53107950e-02 -6.87957602e-03  2.01097485e-02  4.71905023e-02\n",
      " -6.08274490e-02 -4.23219167e-02 -3.57371345e-02  2.87291668e-02\n",
      " -2.81012058e-02  6.10910915e-02 -5.18230684e-02 -7.50941178e-03\n",
      " -3.07047311e-02  8.13339604e-04  1.45774819e-02  1.22668985e-02\n",
      "  3.79741080e-02 -4.22006510e-02 -9.40952450e-03  1.26130711e-02\n",
      "  8.55632722e-02  3.77735347e-02  1.41401007e-03  6.41736984e-02\n",
      "  5.05689010e-02 -5.77936647e-03 -1.09078102e-02  6.78480789e-03\n",
      " -2.00582333e-02  4.89428192e-02 -8.49461835e-03 -2.42428854e-03\n",
      " -7.37103913e-03  1.85880326e-02  8.08330253e-03 -1.03384573e-02\n",
      " -2.87858248e-02  3.13182659e-02 -3.78198875e-03 -4.82107932e-03\n",
      "  3.10750492e-03 -3.02710803e-03 -2.93274708e-02 -2.47740392e-02\n",
      "  3.53625454e-02  5.44280047e-04  3.12253367e-02 -4.56644110e-02\n",
      " -3.05787846e-02 -4.38934788e-02 -3.39478888e-02 -4.15793955e-02\n",
      "  6.44757524e-02 -1.55903935e-03  3.98301240e-03 -2.27167318e-03\n",
      " -6.35491358e-03 -3.55863981e-02  2.65948065e-02  4.69324924e-02\n",
      "  1.64104514e-02  1.79547034e-02  1.33658759e-02 -2.66937409e-02\n",
      " -2.39923634e-02 -2.06165761e-02 -2.48198900e-02 -5.12004346e-02\n",
      " -5.54498099e-03  1.81241464e-02  2.81455703e-02 -1.52694806e-02\n",
      " -3.62993926e-02  1.41980285e-02 -1.03263026e-02 -1.53739937e-02\n",
      " -1.90760400e-02  7.37815071e-03 -4.32782583e-02  6.44605234e-02\n",
      "  4.22289111e-02  3.69750033e-03 -2.10980102e-02  9.27690708e-04\n",
      "  7.00221136e-02 -1.28833903e-02 -4.43939343e-02  7.84383714e-03\n",
      " -5.62279671e-02 -2.58354172e-02  4.93661314e-03 -4.98834886e-02\n",
      "  2.39316244e-02 -2.46277341e-04  3.04041617e-03  1.11720143e-02\n",
      " -1.84925608e-02  8.85111466e-02  5.27525134e-02 -4.00966853e-02\n",
      "  3.53580527e-02 -3.67238522e-02  3.67109664e-02  9.71165858e-03\n",
      "  3.12656946e-02 -1.22500829e-01 -3.10586728e-02 -3.13424738e-03\n",
      " -3.61339040e-02  4.28801887e-02  2.79536733e-04  4.80143074e-03\n",
      " -9.82156917e-02  2.61313338e-02  1.68510862e-02  4.25127894e-02\n",
      " -4.40636091e-02 -1.92942601e-02 -4.17811982e-02  1.10102007e-02\n",
      " -1.29305255e-02 -3.19889635e-02 -2.09933612e-02  6.59040641e-03\n",
      " -5.12904935e-02 -5.68090752e-02 -1.73662100e-02 -2.85682250e-02\n",
      " -5.78577369e-02  3.06150969e-02 -1.91621672e-04  5.92039376e-02\n",
      "  2.28501414e-03 -3.68660353e-02 -7.59677067e-02 -2.37930529e-02\n",
      " -5.88498823e-02  2.44148392e-02  3.55510339e-02 -2.30708048e-02\n",
      " -2.64749248e-02  6.83388719e-03  3.58306877e-02 -3.77268791e-02\n",
      " -3.35451141e-02  2.75024213e-02  8.47892389e-02 -2.30224058e-03\n",
      "  5.99642377e-03 -4.39460911e-02  1.90635398e-02  2.43068561e-02\n",
      "  4.97598089e-02  3.48221436e-02 -1.22428415e-02 -9.52072674e-04\n",
      "  8.12206604e-03  7.42881838e-03 -4.32638563e-02 -4.86899093e-02\n",
      "  3.33769359e-02 -9.35189426e-03  4.57261726e-02 -8.49949345e-02\n",
      " -3.17019969e-02  5.82109205e-02  2.98860073e-02  3.27124298e-02\n",
      "  3.13576846e-03  7.53511908e-03  1.71621202e-03 -5.69137745e-02\n",
      " -1.17817130e-02  1.43013848e-02  1.84575785e-02  2.41325274e-02\n",
      " -1.80390440e-02  5.36694564e-02  3.78649421e-02  1.19280899e-02\n",
      " -3.06920744e-02 -3.29276882e-02 -4.37397994e-02  9.22686327e-03\n",
      "  2.39838976e-02  1.34406360e-02  1.18268738e-02 -3.75343189e-02\n",
      "  3.63410413e-02  4.29439582e-02  4.53460850e-02 -7.29760751e-02\n",
      " -1.10598085e-02  1.17620416e-02 -2.06152480e-02  1.47659266e-02\n",
      "  3.64490189e-02 -3.24941566e-03  4.32060985e-03 -6.36857897e-02\n",
      "  4.23910543e-02  1.79280750e-02 -7.00057298e-02  1.53178759e-02\n",
      " -5.22550941e-02 -1.89471506e-02 -2.84226220e-02  5.57506410e-03\n",
      " -6.22838968e-03  1.74789820e-02 -1.05596587e-01 -3.59372832e-02\n",
      " -5.49096055e-02  2.42201891e-02  4.82033305e-02  2.00590678e-02\n",
      "  1.22002847e-02 -1.89717896e-02 -3.32488306e-02  8.26577097e-03\n",
      "  3.25936778e-03  6.27234131e-02  4.37994823e-02 -1.64108630e-02\n",
      " -1.29949925e-02  2.99946889e-02 -3.55265290e-02 -1.05934786e-02\n",
      " -6.53242841e-02 -1.05157206e-02 -3.01193446e-02 -1.06331529e-02\n",
      " -1.90696176e-02 -1.08426306e-02 -4.72782627e-02  4.36234325e-02\n",
      " -3.26108523e-02  5.00925668e-02 -3.29291150e-02  2.48313742e-03\n",
      "  7.13982880e-02 -1.29912626e-02  5.38316928e-02 -1.64793748e-02\n",
      " -2.57683937e-02  6.63955361e-02  6.69528097e-02 -6.91024140e-02\n",
      " -1.29960543e-02  2.54569016e-03  1.08204177e-02 -3.45112830e-02\n",
      " -4.18824293e-02  4.11806703e-02 -2.14524046e-02 -1.99222425e-03\n",
      "  2.75430977e-02  1.97314983e-03 -5.62766679e-02 -1.72102787e-02\n",
      "  4.73647267e-02  2.71154344e-02 -2.16401052e-02 -1.61214061e-02\n",
      " -3.51910852e-02 -6.50478229e-02 -5.54158213e-03  3.18600349e-02\n",
      " -9.87861305e-03  1.18841892e-02 -1.54758478e-02  2.12223046e-02\n",
      "  1.55511731e-02 -1.70724429e-02 -1.55686336e-02  3.15089710e-02\n",
      " -1.18929390e-02 -7.12359548e-02 -3.30978073e-02 -4.32606717e-33\n",
      " -4.62589152e-02  1.22970063e-02 -3.20230015e-02 -2.78885197e-02\n",
      " -1.08435759e-02 -1.10652382e-02  8.93465336e-03  2.52347924e-02\n",
      "  2.32203193e-02  3.27641480e-02  7.82623328e-03 -2.69480459e-02\n",
      "  1.19925123e-02  1.65209807e-02 -2.60638376e-03  2.92154085e-02\n",
      "  2.84572206e-02 -2.02487893e-02  9.00307577e-03  8.76452774e-03\n",
      "  1.29353274e-02  4.02023867e-02  4.33697067e-02 -2.80212499e-02\n",
      " -2.89618764e-02  1.52371777e-02 -8.27922393e-03  2.36244538e-04\n",
      "  3.45985182e-02  4.76798117e-02 -2.41580456e-02  1.96413174e-02\n",
      " -1.51803065e-02  2.42424048e-02 -1.42623959e-02  7.18389153e-02\n",
      " -5.58839701e-02 -1.55400503e-02  4.14171256e-02 -1.92339290e-02\n",
      " -2.55287644e-02 -4.58723642e-02 -2.71275211e-02 -4.43420373e-02\n",
      "  3.60833257e-02  5.78191550e-03  3.51143964e-02 -4.16083541e-03\n",
      " -8.40499531e-03 -3.97937279e-03 -7.85549134e-02 -2.72273435e-03\n",
      "  6.03267085e-03  1.87141672e-02  1.59001779e-02 -1.67081205e-04\n",
      "  2.86231725e-03  6.50425674e-03 -9.02048498e-03 -9.05947294e-03\n",
      " -3.17574404e-02  2.61157732e-02  2.27601044e-02 -4.73465919e-02\n",
      " -4.33875620e-02  5.98783270e-02 -3.70310731e-02 -3.92581187e-02\n",
      " -7.42959604e-03  3.97703722e-02  2.05766391e-02  4.45614681e-02\n",
      "  5.17226197e-02  6.47154972e-02 -1.12155955e-02  1.98144112e-02\n",
      " -1.74946580e-02 -1.85964387e-02  2.05232259e-02  2.25116988e-03\n",
      "  4.36831117e-02  3.15699801e-02  2.36151069e-02 -1.29921911e-02\n",
      " -1.68885849e-02  3.43268667e-03  1.92246007e-04 -6.20984025e-02\n",
      "  3.11526023e-02  1.04306974e-02 -3.49926203e-02  7.67277647e-03\n",
      "  3.18957232e-02 -2.56586988e-02  4.89979936e-03  1.79350376e-02\n",
      " -1.52581576e-02  2.70326100e-02 -8.59260466e-03  3.45437638e-02\n",
      "  8.93350225e-03 -3.48192900e-02  1.24012423e-03 -8.79177172e-03\n",
      "  2.69112382e-02  1.40880216e-02  3.80621813e-02 -9.51183494e-03\n",
      " -7.63271004e-02 -1.83741550e-03 -4.29709721e-03 -5.61364517e-02\n",
      " -5.31257279e-02  2.93391570e-03 -1.72040965e-02  2.31317952e-02\n",
      " -1.01896292e-02 -1.86985673e-03  3.17086801e-02 -6.50317594e-03\n",
      " -2.88114566e-02 -2.14221366e-02  3.67090479e-02  3.45962718e-02\n",
      " -2.46727280e-02 -1.98293086e-02 -4.26006317e-02  4.03007604e-02\n",
      "  5.03498763e-02 -6.73352256e-02  1.44803599e-02 -1.37577392e-03\n",
      "  1.72852523e-07  3.70796435e-02  6.15184866e-02  4.44693901e-02\n",
      "  6.80574274e-04 -1.33424327e-02 -2.72832327e-02  6.99476153e-03\n",
      "  6.66199699e-02  2.50346930e-04  2.30058935e-02  1.88476555e-02\n",
      " -1.44462995e-02  1.54895158e-02  2.89910715e-02 -1.31518722e-01\n",
      "  2.14486662e-02 -2.88341101e-02 -2.95149852e-02 -4.65548150e-02\n",
      " -1.54500762e-02  1.24013714e-01  1.09433211e-01  4.62636165e-02\n",
      "  4.23713848e-02 -1.23258289e-02 -2.99533140e-02  3.81512679e-02\n",
      "  3.16717685e-03 -3.14146653e-02 -1.89234987e-02 -2.20976658e-02\n",
      " -2.07271054e-02 -1.20526953e-02 -9.80346929e-03 -2.79675499e-02\n",
      "  2.28399020e-02  1.71222780e-02  8.59407522e-03  2.80328514e-03\n",
      " -1.35172310e-03 -3.63583080e-02 -9.39914025e-03 -1.85964406e-02\n",
      " -4.00974900e-02  5.23000136e-02 -8.10101181e-02 -1.47648454e-02\n",
      " -3.93798091e-02 -3.35376114e-02  4.06395234e-02  8.97645950e-03\n",
      " -2.16666367e-02 -3.90349813e-02  1.56783834e-02  4.90158387e-02\n",
      "  1.02828797e-02 -1.40257627e-02 -7.82714039e-02 -4.19594347e-02\n",
      "  4.97714290e-03 -1.97147708e-02 -1.22225061e-02 -2.03673802e-02\n",
      " -3.36222686e-02  5.23180664e-02  6.24378968e-04  1.15819778e-02\n",
      "  2.02653022e-34  4.07035649e-02  2.52485275e-02  4.51186597e-02\n",
      "  6.06567711e-02  3.35381962e-02 -5.01598306e-02  1.34424195e-02\n",
      "  1.49853043e-02  1.83794256e-02 -7.26792738e-02 -3.15447226e-02]\n",
      "\n",
      "        Sentence: Sentences can be embedded one by one or in a list\n",
      "        Embedding: [ 5.30693270e-02 -2.92308498e-02 -3.48628908e-02  3.71177383e-02\n",
      " -2.06492580e-02  3.95141616e-02  3.82805578e-02 -1.27681578e-02\n",
      "  4.01308052e-02 -3.31618227e-02  5.40345237e-02  2.86832992e-02\n",
      "  4.86773439e-02 -4.09214795e-02  1.35087054e-02 -7.89824054e-02\n",
      "  3.45116593e-02  1.41898012e-02  2.86578815e-02  1.42108267e-02\n",
      "  5.71259717e-03  4.03002836e-03 -4.32567380e-04  1.32614225e-02\n",
      "  2.45586243e-02 -3.72598693e-03 -3.66856568e-02 -6.74735708e-03\n",
      "  2.70378236e-02 -7.24915117e-02 -2.66211405e-02 -1.21504231e-03\n",
      "  1.63495485e-02 -1.08125433e-01  1.56397016e-06  3.85118350e-02\n",
      " -3.65743861e-02 -2.66241357e-02 -4.42643203e-02  1.28964977e-02\n",
      " -4.57124971e-02 -9.86384694e-03  3.66598517e-02  1.99019872e-02\n",
      " -3.10423952e-02 -7.98449013e-03  3.06468941e-02  5.60650602e-02\n",
      "  3.99376005e-02  7.10424110e-02 -1.53890699e-02 -1.15560340e-02\n",
      " -3.35625485e-02 -1.21929385e-02  4.99053895e-02 -5.15730958e-03\n",
      "  4.40970855e-03 -3.02439705e-02  1.71415545e-02  8.43129009e-02\n",
      "  1.82204563e-02  5.54764494e-02  1.47552369e-03 -3.29245999e-02\n",
      "  4.21681739e-02 -9.37596080e-04 -5.85809909e-02 -5.20685837e-02\n",
      " -2.86779162e-02 -1.35767565e-03  5.57454489e-02 -3.44871497e-03\n",
      "  8.22927058e-03  1.78005174e-02  4.17837463e-02 -3.59115861e-02\n",
      " -4.77101132e-02  5.18276431e-02  2.39623152e-03  8.95430986e-03\n",
      " -1.05460910e-02  2.30628848e-02 -1.33586004e-02 -2.77345385e-02\n",
      " -8.70221201e-03 -2.76095700e-02  1.54276090e-02 -3.63631472e-02\n",
      " -3.07375025e-02 -1.30852833e-02 -4.51644957e-02 -5.19663654e-02\n",
      " -1.07122269e-02 -2.96762288e-02 -1.88344400e-02  1.86207311e-04\n",
      " -6.11914210e-02 -4.36858460e-02  2.32647695e-02 -4.52138260e-02\n",
      "  4.43051942e-02  3.37995612e-03  7.08037056e-03 -1.64861828e-02\n",
      " -3.86305130e-03  7.70350546e-03  5.20838564e-03 -4.81047854e-02\n",
      " -8.71501863e-02  5.63322082e-02 -3.46184410e-02 -6.49362803e-02\n",
      " -6.03669919e-02  1.00820415e-01 -1.79124903e-02 -3.34641077e-02\n",
      " -7.67714307e-02  4.04001363e-02  2.43921690e-02  5.72859086e-02\n",
      " -1.02228180e-01 -1.41892461e-02  2.15399526e-02  7.54218921e-02\n",
      "  1.65044144e-02 -3.70611586e-02 -1.82734411e-02  3.78716178e-02\n",
      "  5.54993451e-02 -1.25557538e-02 -2.76821037e-03  4.61267531e-02\n",
      "  6.00364693e-02  1.08816279e-02 -4.00967412e-02  4.56184527e-04\n",
      "  5.09409457e-02 -9.98596102e-03  1.94877293e-02 -2.86727659e-02\n",
      " -3.96844558e-02 -2.18908377e-02 -1.81978866e-02 -1.68056116e-02\n",
      "  2.00587697e-02  1.62738841e-02 -2.20315810e-03 -3.76455076e-02\n",
      "  4.80874926e-02  4.84268554e-02 -3.94145437e-02  5.42136505e-02\n",
      "  3.26796062e-02 -4.09100503e-02 -2.90086605e-02 -4.41754237e-03\n",
      "  1.31802112e-01  1.82665456e-02  1.95300132e-02  3.47890742e-02\n",
      "  1.46937147e-02  1.62934768e-03  1.09762028e-02 -3.40339467e-02\n",
      " -1.09874476e-02 -1.87672209e-02 -1.46073932e-02  1.55210076e-02\n",
      "  1.16035677e-02  5.18694408e-02 -6.77465424e-02  7.17767403e-02\n",
      "  5.71053184e-04  1.00780211e-01  2.97402665e-02  7.68599361e-02\n",
      " -2.70826127e-02 -2.82980110e-02  2.63844766e-02  1.89826824e-02\n",
      "  5.51963337e-02  5.80770820e-02 -2.36045010e-02 -3.55421216e-03\n",
      "  4.47731726e-02  1.30058769e-02  4.51734327e-02 -1.48817606e-03\n",
      "  3.71093047e-04 -7.09838718e-02 -8.12216848e-02  2.24215034e-02\n",
      "  9.87786520e-03 -2.28540152e-02 -3.23205516e-02  1.48220453e-02\n",
      " -6.32841811e-02  2.41180193e-02 -7.20808096e-03 -4.88323756e-02\n",
      " -1.63202975e-02  4.74645048e-02  3.31183970e-02  5.20120673e-02\n",
      " -4.03401293e-02  1.61988195e-02  1.98447034e-02 -4.44590412e-02\n",
      " -7.34878751e-03  4.14603613e-02  2.54000332e-02  3.82352807e-02\n",
      " -1.86111387e-02  1.03059439e-02 -2.72478419e-03 -6.48480235e-03\n",
      "  1.57465003e-02  7.69986166e-03 -5.83132654e-02 -8.16829223e-03\n",
      "  1.04357172e-02  1.48157915e-02  2.85898913e-02  2.68386565e-02\n",
      "  4.88488674e-02 -1.63715407e-02 -2.59585399e-02  2.13107653e-02\n",
      "  1.36303669e-02  1.84290612e-03 -1.18285534e-03  1.61538702e-02\n",
      "  3.39008048e-02 -3.28288437e-03 -7.25702718e-02  1.77836493e-02\n",
      " -4.66222875e-02 -9.60183144e-02 -2.85692979e-03 -7.19407797e-02\n",
      "  9.65517294e-03 -2.02039294e-02  1.02709327e-02  9.99063905e-03\n",
      " -4.50545587e-02 -4.10118327e-02  5.24773821e-02  1.77237932e-02\n",
      " -1.83202717e-02  3.78855653e-02  6.32864842e-03 -9.39201564e-03\n",
      " -1.71741359e-02 -6.68034144e-03  3.51471640e-02 -8.73039849e-03\n",
      " -3.93558294e-02  5.24430424e-02 -3.79961804e-02  7.54553778e-03\n",
      "  2.22940274e-04 -1.84038132e-02 -3.06606721e-02  5.50364237e-03\n",
      "  2.05306057e-03  7.38571817e-03 -1.85284726e-02 -9.70779508e-02\n",
      " -4.05839346e-02  1.18752534e-03 -2.94938032e-02 -3.58579569e-02\n",
      "  5.24152908e-03  2.25621834e-02  2.33390536e-02 -1.22665111e-02\n",
      "  1.87963701e-03 -2.53023184e-03  3.55886668e-02  5.62575385e-02\n",
      "  1.98703744e-02 -5.47782853e-02 -4.74455357e-02 -5.60690416e-03\n",
      " -1.47266919e-02  4.90903072e-02  1.11881671e-02 -4.88218367e-02\n",
      " -2.34883409e-02  1.24091457e-03  2.09165877e-03  1.16676856e-04\n",
      "  4.68953103e-02 -7.52938017e-02  8.42011068e-03  6.67412626e-03\n",
      "  9.45223644e-02  6.83849975e-02  1.09989429e-02  1.04785241e-01\n",
      "  7.95513298e-03  4.71064448e-03  4.00390066e-02 -1.50033860e-02\n",
      "  1.92360226e-02  4.28813137e-02 -2.79522724e-02  1.52964508e-02\n",
      "  2.33373488e-03  3.07833981e-02  6.69831783e-02  1.42553058e-02\n",
      " -1.22784805e-02  2.65146233e-02 -1.19550247e-02  5.05969906e-03\n",
      " -6.42699003e-02 -7.29812756e-02 -1.57860927e-02  1.55568160e-02\n",
      "  5.65753803e-02 -1.14565510e-02  1.50641380e-02 -4.02392074e-02\n",
      "  1.21961515e-02 -2.29833554e-02 -5.19917198e-02  1.79916751e-02\n",
      "  2.99179330e-02  3.60417105e-02  1.39991455e-02  2.71741394e-02\n",
      " -3.77165852e-03 -7.02462252e-03 -1.79233365e-02  4.07175124e-02\n",
      "  3.52633670e-02  2.35492177e-02  3.31913424e-03 -1.84937641e-02\n",
      " -2.69720294e-02 -3.38326432e-02 -2.74990406e-02 -7.27826655e-02\n",
      " -6.89627230e-03  1.41585630e-03  5.51612442e-03  1.87288541e-02\n",
      " -7.41729811e-02 -1.17667057e-02  3.81385572e-02 -2.71116681e-02\n",
      " -4.05929834e-02 -1.51584800e-02 -6.35443032e-02  3.79454046e-02\n",
      "  4.80102226e-02 -3.77885774e-02 -1.78890303e-02 -4.15388457e-02\n",
      "  7.09787086e-02  2.44981367e-02 -4.33056541e-02  9.61232409e-02\n",
      "  7.93621689e-03  1.14486916e-02 -3.94924893e-04 -2.73045395e-02\n",
      " -5.88592254e-02  2.26384755e-02 -2.38795136e-03 -1.43096903e-02\n",
      " -1.01918168e-02  5.17066307e-02 -3.28359613e-03  1.28040249e-02\n",
      "  2.82140374e-02  1.05748037e-02 -1.07131423e-02  1.26352562e-02\n",
      "  4.46664579e-02 -9.85662416e-02  4.36468199e-02  1.68520398e-03\n",
      " -4.68538515e-02  8.85102246e-03  4.66209017e-02 -6.30491152e-02\n",
      " -5.64433783e-02  5.33322580e-02  3.81145719e-03  1.78617761e-02\n",
      " -5.23935035e-02 -1.90260950e-02 -7.93266594e-02  6.89903051e-02\n",
      "  7.21346354e-03  2.66699120e-02 -1.13267638e-02 -2.58557411e-04\n",
      "  2.97040045e-02 -3.38875279e-02  1.60172451e-02 -5.94127141e-02\n",
      "  1.65246166e-02 -1.09952176e-04  1.72723867e-02  1.49703966e-02\n",
      " -5.83550148e-02 -6.70124544e-03  5.30951004e-03 -3.27517688e-02\n",
      " -1.96900237e-02  1.18451649e-02  1.52674094e-02 -1.80474506e-03\n",
      " -1.10481363e-02  1.58272590e-02  2.82351337e-02 -4.50964719e-02\n",
      " -2.89856512e-02  6.70567602e-02  5.01304716e-02 -1.61721036e-02\n",
      "  4.72195307e-03 -4.63220403e-02  2.39873100e-02 -1.47532683e-03\n",
      "  3.74829117e-03  9.33828484e-03  1.21423230e-03  1.49440381e-03\n",
      " -3.17491405e-02 -4.61906344e-02 -6.02458268e-02  9.07508004e-03\n",
      "  8.58426839e-03 -4.19083834e-02  5.10068387e-02 -7.02106059e-02\n",
      " -4.30454984e-02  1.55069809e-02  6.40604272e-02  1.36265261e-02\n",
      "  5.16178180e-03  3.31744854e-03  1.00099165e-02  1.06379278e-02\n",
      " -5.58960922e-02  4.54167873e-02 -3.59140523e-02 -9.71804745e-03\n",
      "  4.80192341e-03  7.41984928e-03 -1.53023722e-02 -1.45509169e-02\n",
      " -9.24879760e-02 -9.99045745e-02 -2.09068488e-02  3.36003155e-02\n",
      "  3.09606865e-02  1.68299377e-02 -1.40181417e-02  2.35695131e-02\n",
      " -2.80582253e-03  5.11750542e-02  2.68931519e-02 -7.58542074e-03\n",
      "  2.36973092e-02  1.54806497e-02 -1.63424341e-03  5.30994199e-02\n",
      "  7.65251042e-03 -6.96721778e-04  2.19736341e-02 -1.37771629e-02\n",
      " -5.73133305e-02 -1.98934766e-04 -3.98217924e-02  1.79902967e-02\n",
      "  1.02600092e-02  7.22174766e-03  6.41266175e-04 -3.01938541e-02\n",
      "  1.16541749e-02  3.91809829e-02 -6.05863817e-02 -5.62093146e-02\n",
      " -4.30150628e-02  2.95300074e-02 -2.88100783e-02  2.81980168e-02\n",
      " -3.47340703e-02 -1.77888740e-02 -1.46730645e-02  4.13108170e-02\n",
      "  1.64431892e-02  4.15620469e-02  5.14857136e-02 -9.35950726e-02\n",
      " -1.30793639e-02  2.66299117e-02 -3.99076529e-02  3.91766764e-02\n",
      " -3.41945030e-02  7.64997257e-03 -1.63324811e-02  3.23772454e-03\n",
      "  1.43878935e-02  1.39215365e-02 -6.12222888e-02  1.00041945e-02\n",
      " -4.21548150e-02  2.21911445e-02  3.68824713e-02 -1.01654325e-02\n",
      " -9.04233754e-03 -4.50312719e-02  2.09378693e-02 -3.01456777e-03\n",
      " -2.58539547e-03  1.92271825e-02  7.07196444e-02 -3.69113162e-02\n",
      " -7.31595512e-03  1.46744950e-02  1.97836645e-02 -5.04982583e-02\n",
      " -3.87230404e-02  4.34927717e-02 -5.26619004e-03 -5.68132065e-02\n",
      "  3.87761928e-02 -3.69654968e-03 -6.77857324e-02  3.67372446e-02\n",
      " -5.91546437e-03  2.96211224e-02  4.01053876e-02 -4.02216800e-02\n",
      "  1.74381528e-02 -4.98857908e-02  5.63976951e-02 -3.86852131e-04\n",
      "  3.67226452e-02  1.19734956e-02 -1.47151761e-02  1.71906594e-02\n",
      "  4.45833318e-02 -4.55954559e-02 -2.02643722e-02  1.00982077e-02\n",
      " -6.19730689e-02  8.17988813e-03  3.58199254e-02 -5.45448481e-33\n",
      " -4.87347431e-02 -3.46633531e-02 -2.15869583e-02  7.20951566e-03\n",
      " -3.77337188e-02 -1.43146794e-02 -1.30188465e-02  4.44154330e-02\n",
      "  3.31195407e-02  5.56573942e-02 -1.42494170e-02  1.81496516e-02\n",
      "  3.50603797e-02  2.57639661e-02  7.14531690e-02 -3.11836298e-03\n",
      "  2.04766523e-02  1.68037172e-02 -3.47972172e-03 -4.35933433e-02\n",
      "  5.90104843e-03  8.44113808e-03  5.42631373e-02  1.80101376e-02\n",
      "  3.31530608e-02 -2.00474430e-02 -9.75143816e-03 -1.20323263e-02\n",
      "  8.83686449e-03  4.76268679e-02 -2.83819996e-02  8.89169332e-03\n",
      " -1.93684939e-02  9.07935016e-03 -7.66769890e-03  7.32756108e-02\n",
      "  1.09891053e-02 -5.22135384e-02  3.18257287e-02 -3.49996681e-03\n",
      " -1.99946817e-02 -4.85489853e-02  1.38300350e-02 -5.96773922e-02\n",
      "  6.65588528e-02 -2.42246818e-02  4.63323034e-02 -2.98359059e-02\n",
      " -6.15567528e-03  1.71751399e-02 -4.95708808e-02 -1.96834542e-02\n",
      " -2.36148786e-04  7.19645545e-02 -4.26818430e-03  2.36831903e-02\n",
      "  1.08362362e-02  4.21515368e-02 -2.33397782e-02  2.84764376e-02\n",
      " -6.76779356e-03  8.03823695e-02 -1.34699382e-02 -7.72079453e-02\n",
      " -2.39846222e-02  3.05285919e-02 -2.59028208e-02  2.57935142e-03\n",
      " -3.26664597e-02  5.38818538e-02 -2.71028113e-02  4.49544303e-02\n",
      "  3.07000452e-03  5.03332727e-02 -9.86143760e-03 -3.01026646e-03\n",
      " -6.73501566e-02 -2.41791084e-02 -7.23620225e-03 -1.14416983e-02\n",
      "  1.91947501e-02  2.74911299e-02 -1.23347687e-02 -3.50382216e-02\n",
      " -1.84014272e-02  7.15596019e-04  2.91263871e-02 -5.61995246e-02\n",
      "  4.75634560e-02 -3.75297293e-02 -2.68911794e-02 -2.38832980e-02\n",
      "  2.52921302e-02  1.06988158e-02 -4.66767848e-02  2.93864142e-02\n",
      " -9.87015478e-03 -1.12397864e-03 -9.27279796e-03  3.53108346e-02\n",
      " -3.71456146e-02 -3.71325985e-02 -1.69950239e-02  2.12946814e-02\n",
      "  2.54291091e-02  4.28552814e-02  4.33324203e-02  4.48152935e-03\n",
      " -9.42827016e-02 -1.70901436e-02  1.10409074e-02 -3.88842747e-02\n",
      " -3.45904268e-02  3.07088681e-02  1.30466616e-03  7.11215148e-03\n",
      " -1.73141733e-02  4.77688760e-02 -2.20348649e-02 -6.04497455e-02\n",
      " -1.83624756e-02  2.80789863e-02 -4.54668741e-04 -2.60080509e-02\n",
      " -9.83569864e-03 -1.16063142e-02 -3.54082622e-02  5.33300824e-02\n",
      "  2.64495276e-02 -1.83869824e-02  2.61320788e-02  3.39430682e-02\n",
      "  2.21261047e-07 -8.46496597e-03  1.20649301e-02  2.91827191e-02\n",
      "  3.55410017e-02 -1.13244662e-02 -6.91335928e-03  2.06188299e-02\n",
      " -1.39338977e-03 -4.48871814e-02  6.40495773e-03  4.17675301e-02\n",
      " -2.58871401e-03  6.89534191e-03  2.48632096e-02 -5.69505692e-02\n",
      "  1.72253698e-02 -1.92528311e-02 -6.02335669e-02 -2.45266166e-02\n",
      " -1.40433852e-02  8.62879679e-02  6.29766509e-02  4.34004143e-02\n",
      "  5.02776764e-02 -1.87744610e-02 -1.98901501e-02  2.19271798e-02\n",
      "  8.46271496e-03 -2.59899516e-02  3.89528391e-03 -2.46611796e-02\n",
      " -1.65897831e-02 -2.01205239e-02  5.91148948e-03 -1.35333631e-02\n",
      " -8.54646415e-03  3.61225531e-02  4.72655073e-02  3.28682549e-02\n",
      "  6.59004524e-02 -2.86882408e-02  3.47092794e-03 -3.29475813e-02\n",
      " -3.60511430e-02  3.41274822e-03 -4.01322022e-02 -1.85953046e-04\n",
      " -1.36145698e-02 -1.09715248e-03 -1.29645336e-02  2.90934164e-02\n",
      "  3.96569744e-02  2.55867578e-02 -3.89271328e-04 -1.53219537e-03\n",
      " -4.56913300e-02  2.18823999e-02 -4.48145866e-02 -1.81995705e-02\n",
      " -1.24749925e-03 -9.85781197e-03 -6.26795506e-03 -1.09387413e-02\n",
      "  3.64437187e-03  7.34682903e-02 -1.62414033e-02 -6.56597167e-02\n",
      "  2.02214668e-34  1.52588729e-02 -3.09849977e-02  4.20315303e-02\n",
      "  6.65774941e-02 -1.13284728e-02  3.40492767e-03 -4.86454293e-02\n",
      "  3.74974050e-02  1.74993835e-02 -7.83753544e-02 -7.25105219e-03]\n",
      "\n",
      "        Sentence: I like horses!\n",
      "        Embedding: [-2.67144348e-02  1.31017953e-01 -3.86219472e-02  8.03853571e-03\n",
      "  2.97369342e-02  4.18423750e-02 -2.23039221e-02  2.32260805e-02\n",
      "  4.10415232e-02 -2.95187645e-02 -3.46263424e-02 -1.83776580e-02\n",
      " -4.16668691e-02 -3.50137278e-02 -2.38859630e-03 -3.45176496e-02\n",
      "  3.66863646e-02 -9.95047484e-03 -1.36514399e-02  3.32557857e-02\n",
      "  2.50876881e-02  4.92446348e-02 -4.98319156e-02 -3.70693393e-02\n",
      " -8.86959396e-03  1.86221618e-02 -3.02470140e-02 -8.31605271e-02\n",
      "  4.80911806e-02  5.41727059e-02 -4.70784605e-02 -3.58009450e-02\n",
      "  2.20624357e-02 -5.00788074e-03  1.42282158e-06 -1.15013088e-03\n",
      " -5.59794046e-02  3.81627269e-02  1.37143787e-02  2.09261011e-02\n",
      "  1.77286118e-02 -4.40465733e-02 -1.82883535e-02 -3.46980430e-02\n",
      "  1.40275033e-02  6.92681549e-03  3.91349979e-02  1.17347492e-02\n",
      " -8.34457949e-03  2.72799004e-02 -6.54873811e-03  1.99991446e-02\n",
      " -6.94846064e-02  3.48813226e-03  2.37389635e-02  3.51724923e-02\n",
      "  1.91240460e-02 -5.14322817e-02  2.78951097e-02  7.01085548e-04\n",
      " -1.24891743e-03 -7.77337775e-02  5.04702516e-03  7.82277714e-03\n",
      "  1.70376878e-02 -2.29333207e-04 -2.19660420e-02 -6.28653774e-03\n",
      "  8.83767661e-03  1.61731653e-02  4.74318396e-03  1.63856652e-02\n",
      "  1.98698714e-02  2.87377760e-02 -1.13958502e-02  1.21814776e-02\n",
      " -3.25764040e-03  7.47990459e-02  2.07085558e-03  2.13712663e-03\n",
      "  2.36542290e-03  6.81825168e-03  1.78420395e-02 -6.76717004e-03\n",
      " -1.13652106e-02  3.47163789e-02  3.99641693e-02  6.02475775e-04\n",
      "  2.50220448e-02  3.51954922e-02 -3.58677246e-02 -1.77029315e-02\n",
      "  4.12770323e-02  4.19989154e-02 -4.30353172e-02 -3.04896031e-02\n",
      "  1.79912262e-02  3.39752547e-02  5.67291342e-02 -3.72519270e-02\n",
      "  7.71262171e-03  2.32814439e-02 -3.23418155e-02 -2.01844163e-02\n",
      " -2.13816352e-02 -2.77471095e-02  1.32658668e-02 -3.97538878e-02\n",
      "  6.59545362e-02 -1.38212396e-02 -9.20048170e-03  8.40001274e-03\n",
      "  2.81347372e-02  4.15300429e-02 -5.64225996e-03 -4.35978128e-03\n",
      "  1.77122504e-02  2.02860981e-02 -1.31512517e-02  1.41239716e-02\n",
      " -4.01487239e-02 -6.16061054e-02  3.30247581e-02  4.27827723e-02\n",
      " -3.56697440e-02  8.99662357e-03 -4.70690392e-02  3.80768627e-02\n",
      " -4.82298173e-02 -4.26932164e-02 -7.96998199e-03  5.02465479e-03\n",
      "  2.38698870e-02 -4.13716249e-02  3.72231305e-02  5.26337698e-02\n",
      " -1.24459825e-02  5.02842595e-04  1.85009930e-02 -1.01250699e-02\n",
      "  3.01014613e-02  7.05219153e-03 -3.35081816e-02  7.10090622e-03\n",
      "  1.53240003e-02  9.82493069e-03  2.05332711e-02  1.51323259e-03\n",
      " -9.56339482e-03  3.18279825e-02  7.05030886e-03  2.75495145e-02\n",
      " -8.35546404e-02  7.22275639e-04 -3.07107102e-02 -2.28449120e-03\n",
      " -3.29812914e-02 -1.86590385e-02  2.09017843e-02  4.57937233e-02\n",
      "  5.31819500e-02  6.56175707e-03 -1.76371145e-03 -2.55267490e-02\n",
      " -3.00172791e-02 -6.81450441e-02  2.76180655e-02 -1.68422591e-02\n",
      "  2.72240639e-02 -3.77175659e-02  3.64565663e-02 -2.31931172e-02\n",
      " -3.39562148e-02 -2.45279968e-02  6.90310076e-02 -7.11450540e-03\n",
      "  9.94261578e-02  3.98893654e-02  2.19162423e-02 -4.04605567e-02\n",
      "  3.13975848e-02 -6.93094656e-02  3.09213512e-02  1.91145241e-02\n",
      "  4.83726971e-02  1.97972003e-02  3.27672772e-02  4.79415692e-02\n",
      " -2.59472523e-03  5.95350796e-03  1.48088317e-02 -1.33875543e-02\n",
      " -1.18511245e-02  1.80749297e-02 -2.51694932e-03  2.23801900e-02\n",
      "  2.03121323e-02 -5.51623590e-02  5.08648939e-02 -1.74927209e-02\n",
      "  1.03711486e-02  5.48303500e-02 -4.66481037e-03  4.06192876e-02\n",
      "  1.64948944e-02 -1.50221470e-03 -3.87123078e-02 -4.08388209e-03\n",
      "  2.24078782e-02 -2.66852546e-02  7.18928799e-02 -1.56481359e-02\n",
      "  2.15382520e-02 -3.24762450e-03  4.30515483e-02  5.54415509e-02\n",
      "  1.54590253e-02 -2.34077852e-02 -4.02784981e-02  1.09013110e-01\n",
      " -3.61077897e-02 -3.90354544e-03  9.66881961e-02  3.55334170e-02\n",
      " -2.49860343e-02  4.56151739e-02  1.12770787e-02  3.19718719e-02\n",
      " -8.21714289e-03 -1.45097300e-02 -1.38147054e-02  2.27991375e-03\n",
      "  5.81482835e-02 -1.65188406e-03  3.89422593e-03 -3.25093768e-03\n",
      "  4.48074415e-02  4.96553034e-02 -1.68224927e-02 -4.11297567e-02\n",
      " -1.91904057e-03 -9.49492585e-03  5.89219388e-03  4.09448333e-02\n",
      "  1.46507483e-03 -5.32164536e-02 -2.95555368e-02  1.46508953e-02\n",
      " -3.67850550e-02  1.48291970e-02 -5.90047017e-02 -2.52038967e-02\n",
      " -5.49021438e-02  2.71408558e-02 -2.80364323e-03 -3.59129161e-02\n",
      " -3.64186279e-02 -1.44418757e-02  1.95452869e-02 -6.66408092e-02\n",
      "  9.53726992e-02 -9.99762118e-03 -2.48823967e-02  6.06881790e-02\n",
      " -4.30382788e-02  4.59874310e-02  1.21796085e-02 -4.70494777e-02\n",
      " -1.12133501e-02  4.05428885e-03 -1.83669515e-02 -2.00734120e-02\n",
      "  8.09301157e-03  5.61419595e-03  2.90128146e-03 -4.12399275e-03\n",
      " -2.45109703e-02 -6.07830547e-02  3.15642320e-02  3.81212234e-02\n",
      " -2.57495064e-02 -9.00122896e-03  3.79891992e-02  3.19090597e-02\n",
      " -1.12440167e-02  1.84566919e-02 -1.08609376e-02  2.46243626e-02\n",
      "  2.10186075e-02 -5.99230155e-02 -1.32947760e-02  1.88184585e-02\n",
      " -9.76741221e-03  9.56679974e-03  2.00246498e-02 -2.43597087e-02\n",
      " -7.47997984e-02 -5.50076216e-02  2.16922164e-03 -1.73596945e-02\n",
      " -1.04215415e-02  2.91754827e-02  2.50065103e-02  2.84176376e-02\n",
      "  3.87750044e-02  1.19252168e-02  3.72133330e-02  3.90468799e-02\n",
      " -1.65001303e-02  6.95834681e-02 -1.63944233e-02 -7.37078711e-02\n",
      " -3.43168974e-02  2.05580029e-03  9.86350402e-02  5.81433326e-02\n",
      " -2.93991826e-02 -3.82710807e-02  3.70079316e-02  4.88188267e-02\n",
      " -1.09365555e-02  2.00260598e-02  3.07365935e-02  3.93033139e-02\n",
      " -5.45122139e-02  9.67299286e-03  3.63564156e-02 -8.13300069e-03\n",
      "  3.40571925e-02 -2.40374748e-02  1.62689853e-02 -6.15120353e-03\n",
      "  6.18251339e-02  1.78101920e-02  2.62790751e-02 -4.31745388e-02\n",
      "  2.31975280e-02  4.30519767e-02 -1.22825401e-02  2.35078274e-03\n",
      "  1.26593541e-02 -2.33552847e-02 -5.29602617e-02 -4.72016372e-02\n",
      " -4.13432345e-02 -3.42140384e-02 -6.31477460e-02 -5.49499169e-02\n",
      " -4.36866796e-03 -3.53800543e-02 -1.97227839e-02 -7.51114916e-03\n",
      "  2.12546997e-03  4.76517454e-02  1.09922178e-02  3.04179285e-02\n",
      "  1.46337589e-02  3.07518281e-02 -1.45270396e-02 -1.70470774e-02\n",
      "  3.67471613e-02  4.42354828e-02  3.12824547e-02 -2.07042880e-02\n",
      " -3.52867842e-02 -2.42242515e-02  1.73002370e-02 -5.09645529e-02\n",
      " -5.22650145e-02 -6.42454252e-03 -2.20864657e-02 -2.42288299e-02\n",
      " -1.85502842e-02  2.09546629e-02 -2.66730990e-02  7.72047415e-02\n",
      "  3.55064683e-02  4.87249643e-02  6.55237362e-02 -1.83373038e-02\n",
      "  4.43752967e-02 -1.96081419e-02 -4.16709902e-03  1.72039066e-02\n",
      " -7.87352249e-02  1.13609973e-02  3.29830609e-02 -3.34833451e-02\n",
      " -5.91834448e-02 -5.16830385e-03  3.64363566e-02  5.87296905e-03\n",
      " -6.47325367e-02 -6.63173571e-02  2.19204929e-02 -1.38641428e-02\n",
      " -7.08775297e-02  3.66111770e-02  1.24158533e-02  1.85580347e-02\n",
      " -9.74489003e-03  7.25328252e-02  3.39581706e-02 -3.37731801e-02\n",
      " -1.80621296e-02  1.93781517e-02  2.81449910e-02  5.28946798e-03\n",
      "  4.20942381e-02 -1.23083249e-01 -7.94751123e-02  9.75956209e-03\n",
      " -2.79008914e-02  1.05111673e-02  3.45774274e-03 -1.75463222e-02\n",
      "  1.61945876e-02 -3.45510505e-02  4.52590501e-03 -2.37186230e-03\n",
      " -1.51141649e-02 -2.47375648e-02 -1.73723586e-02 -2.17886791e-02\n",
      " -3.81727479e-02 -2.62229182e-02  5.28297611e-02  4.99212556e-02\n",
      " -7.42875319e-03 -9.25559492e-04 -3.52285504e-02  7.01321661e-03\n",
      "  2.04047691e-02 -2.87854150e-02 -6.26717284e-02 -3.56784835e-02\n",
      " -9.65087954e-03  3.77315879e-02 -2.32007671e-02 -5.49367703e-02\n",
      " -4.15531099e-02  4.60585095e-02 -2.85465624e-02 -1.02312360e-02\n",
      "  4.15115356e-02  4.87313680e-02 -5.12896702e-02 -2.63645109e-02\n",
      "  4.78796102e-02  4.24946239e-03 -1.24509316e-02  1.37372157e-02\n",
      " -2.45817043e-02  3.30335088e-02 -3.50702694e-03 -5.78275695e-03\n",
      "  5.48213627e-03 -7.99308568e-02  1.17996642e-02  2.62448769e-02\n",
      "  7.02878460e-02  3.68168461e-03 -2.48584971e-02  1.60750560e-02\n",
      "  9.65138199e-04  1.82267167e-02  9.39306989e-03 -2.96558887e-02\n",
      "  3.92313860e-03 -5.14190532e-02 -1.69606507e-02 -1.98428538e-02\n",
      " -3.49019747e-03  3.12085263e-02  3.27818021e-02  5.27703911e-02\n",
      "  4.46237996e-03  1.18340701e-02  2.50518955e-02 -4.76561971e-02\n",
      " -7.44547844e-02  5.99202551e-02 -5.69954189e-03 -1.62265950e-03\n",
      " -1.20004057e-03 -3.23642232e-02  3.44799110e-03 -2.37544831e-02\n",
      "  4.43040906e-03 -3.08273081e-02 -3.59354913e-02  4.43715462e-03\n",
      " -4.75262925e-02 -8.31951872e-02  4.26744996e-03  6.36712387e-02\n",
      "  2.90642194e-02 -6.99088871e-02  1.03361979e-02  1.88462436e-02\n",
      " -3.32860537e-02  3.96924987e-02 -9.97585431e-03  6.79315925e-02\n",
      "  2.69873571e-02 -3.28911096e-03 -1.17855119e-02  3.25948291e-04\n",
      " -1.81754455e-02 -2.56637088e-03  1.76420994e-02 -7.90653005e-03\n",
      " -4.59221825e-02 -1.44925909e-02  7.05569685e-02  7.63444453e-02\n",
      " -2.13224422e-02 -7.01024234e-02 -2.44030226e-02 -4.42189537e-02\n",
      " -1.92245003e-02 -3.43548576e-03 -5.37869195e-03  1.60381421e-02\n",
      "  4.31604125e-03  2.63602361e-02  9.25265159e-03 -5.00051379e-02\n",
      " -2.23820265e-02  2.37112306e-02 -3.18208411e-02  1.91111281e-03\n",
      "  2.22122725e-02 -2.86414810e-02 -3.01541109e-02  4.24448289e-02\n",
      "  3.16200815e-02 -4.11089184e-03 -1.94385331e-02  4.66424786e-02\n",
      " -2.17026733e-02 -2.05980032e-03  2.94458847e-02 -8.11043158e-02\n",
      " -3.00531052e-02  8.84194206e-03  5.94104230e-02 -4.32766825e-02\n",
      " -3.30853611e-02 -3.78850251e-02 -7.49541214e-03 -2.94030737e-02\n",
      " -2.78828777e-02 -6.97876737e-02 -1.04949616e-01 -6.08098840e-33\n",
      " -5.51380776e-02  5.61126461e-03 -2.12248191e-02 -1.64440870e-02\n",
      " -1.91946384e-02 -6.31383732e-02  7.29616508e-02  5.43050803e-02\n",
      "  9.38581955e-03  5.87568544e-02 -4.03266363e-02 -1.17488774e-02\n",
      " -3.14356457e-03  3.06385010e-03  1.02370502e-02  9.91446991e-03\n",
      "  4.25155051e-02  1.35757253e-02 -1.42614101e-03 -1.04992501e-02\n",
      "  1.34479981e-02  1.84357427e-02  2.05373112e-02 -2.03614216e-02\n",
      "  5.92006296e-02  4.36169393e-02 -1.34567432e-02 -2.44422052e-02\n",
      "  1.97254326e-02  7.98829421e-02 -2.71731126e-03 -2.49471013e-02\n",
      " -5.54746436e-03 -5.11282422e-02 -1.14621138e-02  7.02913031e-02\n",
      " -3.59583497e-02  6.75162487e-03  7.97251333e-03  2.47955211e-02\n",
      "  8.60150009e-02 -6.06778897e-02  5.15736714e-02 -8.29937756e-02\n",
      " -6.10619551e-03  5.53285889e-03  3.96847501e-02  4.83613536e-02\n",
      "  5.62811010e-02  3.28994319e-02 -3.95439863e-02 -6.64222315e-02\n",
      " -6.01475872e-03 -2.22542156e-02  4.40150462e-02 -1.99888945e-02\n",
      "  4.15038876e-02  4.01954260e-03  6.46280870e-03 -7.56391697e-03\n",
      " -2.00565495e-02 -4.12345529e-02 -5.27453721e-02  1.99448187e-02\n",
      " -2.42805239e-02  9.00406837e-02 -1.36346242e-03 -2.23540291e-02\n",
      "  1.24893733e-03  2.67293565e-02 -4.62033264e-02 -4.11435869e-03\n",
      "  1.04216794e-02 -2.03547720e-02 -3.05198599e-03  2.12044213e-02\n",
      " -2.47738119e-02 -2.73370426e-02 -7.42392242e-02  2.22837515e-02\n",
      "  1.23512801e-02 -1.80119916e-03 -1.29682412e-02  2.24856511e-02\n",
      "  2.74916105e-02  4.72554639e-02  1.47988852e-02 -7.57995807e-03\n",
      " -6.21416494e-02 -1.62537023e-02  2.41619665e-02  1.02007901e-02\n",
      " -1.31031172e-02 -8.06464255e-03 -2.23882813e-02 -8.22523143e-03\n",
      " -2.31066383e-02 -4.72937673e-02 -9.15294234e-03 -8.02165270e-03\n",
      "  6.06632456e-02 -5.54485340e-03 -1.17456336e-02  1.09999934e-02\n",
      "  1.48121128e-02  7.78213376e-03  1.76356230e-02 -2.45958567e-02\n",
      " -6.22097477e-02  4.78604324e-02  4.24477941e-04  4.90716137e-02\n",
      "  4.79639620e-02  1.08700067e-01  4.72227521e-02 -2.13419832e-02\n",
      "  1.43254623e-02  5.01378365e-02 -5.37697859e-02 -6.70106709e-03\n",
      "  5.06174378e-03 -1.76747795e-02 -8.18694010e-02  1.33879913e-03\n",
      "  9.54759493e-03 -2.69555058e-02 -8.88637453e-03 -6.27400503e-02\n",
      " -3.88119221e-02 -2.61610057e-02  1.80818345e-02 -1.85252465e-02\n",
      "  2.16867434e-07 -3.05571072e-02 -1.17482655e-02  3.86133455e-02\n",
      "  3.74167413e-02  2.54941378e-02  5.64584099e-02 -1.09359194e-02\n",
      " -3.30965035e-03  1.25073232e-02  9.65327919e-02 -1.43617112e-02\n",
      "  3.24687213e-02  3.97202335e-02 -4.94119944e-03 -2.60990998e-03\n",
      " -6.81307837e-02 -1.66516379e-02 -2.99732108e-02  3.99061572e-03\n",
      " -8.14001821e-03 -9.24562290e-02 -2.10931059e-02 -1.69722494e-02\n",
      " -2.74128048e-03 -1.28148859e-02  2.96035800e-02 -6.09671057e-04\n",
      " -3.85000966e-02  4.86927712e-03  3.31277885e-02 -6.07115924e-02\n",
      "  3.97328362e-02 -2.65968367e-02  1.81749109e-02  2.81270407e-02\n",
      " -1.95649303e-02 -1.59012489e-02 -2.35990491e-02  1.40775237e-02\n",
      "  6.34064376e-02 -3.07723377e-02  1.13034479e-01 -2.16423832e-02\n",
      "  4.25004214e-02  8.88852496e-03  5.16529568e-02  1.31784519e-03\n",
      " -1.07091226e-01  4.95355688e-02 -1.30839190e-02 -2.18528118e-02\n",
      " -2.33550160e-03  2.22141426e-02 -8.58232786e-04  7.25463219e-03\n",
      " -2.40626954e-03  4.42728866e-03 -4.03266735e-02  8.73130653e-03\n",
      " -4.62856218e-02 -9.82049480e-03  7.88555015e-03 -5.59528079e-03\n",
      "  4.54911590e-02 -8.76704231e-03 -4.82472070e-02 -1.01598755e-01\n",
      "  1.12966304e-34  1.71271786e-02 -4.39228155e-02 -3.20055857e-02\n",
      "  2.03909483e-02  2.53923200e-02 -1.92606095e-02  5.61988018e-02\n",
      " -2.65362412e-02  6.99775442e-02  1.96202341e-02 -2.20128875e-02]\n"
     ]
    }
   ],
   "source": [
    "embeddings = embedding_model.encode(sentences)\n",
    "embedings_dict = dict(zip(sentences, embeddings))\n",
    "\n",
    "for sentence, embedding in embedings_dict.items():\n",
    "    print(f\"\"\"\n",
    "        Sentence: {sentence}\n",
    "        Embedding: {embedding}\"\"\")"
   ]
  },
  {
   "cell_type": "code",
   "execution_count": 110,
   "metadata": {},
   "outputs": [
    {
     "name": "stdout",
     "output_type": "stream",
     "text": [
      "CPU times: user 14.5 s, sys: 328 ms, total: 14.8 s\n",
      "Wall time: 9.84 s\n"
     ]
    }
   ],
   "source": [
    "%%time\n",
    "\n",
    "# Batch embeddings\n",
    "text_chunks = [item[\"sentence_chunk\"] for item in pages_and_chunks_over_min_token_len]\n",
    "text_chunk_embeddings = embedding_model.encode(\n",
    "    text_chunks,\n",
    "    batch_size=16,\n",
    "    convert_to_tensor=True,\n",
    ")\n"
   ]
  },
  {
   "cell_type": "code",
   "execution_count": 117,
   "metadata": {},
   "outputs": [
    {
     "data": {
      "text/html": [
       "<div><style>\n",
       ".dataframe > thead > tr,\n",
       ".dataframe > tbody > tr {\n",
       "  text-align: right;\n",
       "  white-space: pre-wrap;\n",
       "}\n",
       "</style>\n",
       "<small>shape: (5, 6)</small><table border=\"1\" class=\"dataframe\"><thead><tr><th>page_number</th><th>sentence_chunk</th><th>chunk_char_count</th><th>chunk_word_count</th><th>chunk_token_count</th><th>embedding</th></tr><tr><td>i64</td><td>str</td><td>i64</td><td>i64</td><td>f64</td><td>array[f32, 768]</td></tr></thead><tbody><tr><td>1</td><td>&quot;1 HANDFULof LEAVES VOLUME FOUR…</td><td>122</td><td>17</td><td>30.5</td><td>[-0.001696, -0.055177, … -0.050128]</td></tr><tr><td>2</td><td>&quot;2 Once the Blessed One was sta…</td><td>854</td><td>154</td><td>213.5</td><td>[0.057702, 0.016415, … 0.004121]</td></tr><tr><td>2</td><td>&quot;This is stress … This is the o…</td><td>468</td><td>84</td><td>117.0</td><td>[-0.004768, -0.053286, … -0.033697]</td></tr><tr><td>3</td><td>&quot;3 Copyright 2014 Ṭhānissaro Bh…</td><td>779</td><td>113</td><td>194.75</td><td>[0.035766, 0.038918, … -0.029905]</td></tr><tr><td>4</td><td>&quot;4 Abbreviations AN Aṅguttara N…</td><td>659</td><td>107</td><td>164.75</td><td>[0.072552, -0.048293, … -0.023471]</td></tr></tbody></table></div>"
      ],
      "text/plain": [
       "shape: (5, 6)\n",
       "┌─────────────┬────────────────┬────────────────┬────────────────┬────────────────┬────────────────┐\n",
       "│ page_number ┆ sentence_chunk ┆ chunk_char_cou ┆ chunk_word_cou ┆ chunk_token_co ┆ embedding      │\n",
       "│ ---         ┆ ---            ┆ nt             ┆ nt             ┆ unt            ┆ ---            │\n",
       "│ i64         ┆ str            ┆ ---            ┆ ---            ┆ ---            ┆ array[f32,     │\n",
       "│             ┆                ┆ i64            ┆ i64            ┆ f64            ┆ 768]           │\n",
       "╞═════════════╪════════════════╪════════════════╪════════════════╪════════════════╪════════════════╡\n",
       "│ 1           ┆ 1 HANDFULof    ┆ 122            ┆ 17             ┆ 30.5           ┆ [-0.001696,    │\n",
       "│             ┆ LEAVES VOLUME  ┆                ┆                ┆                ┆ -0.055177, …   │\n",
       "│             ┆ FOUR…          ┆                ┆                ┆                ┆ -0.05…         │\n",
       "│ 2           ┆ 2 Once the     ┆ 854            ┆ 154            ┆ 213.5          ┆ [0.057702,     │\n",
       "│             ┆ Blessed One    ┆                ┆                ┆                ┆ 0.016415, …    │\n",
       "│             ┆ was sta…       ┆                ┆                ┆                ┆ 0.00412…       │\n",
       "│ 2           ┆ This is stress ┆ 468            ┆ 84             ┆ 117.0          ┆ [-0.004768,    │\n",
       "│             ┆ … This is the  ┆                ┆                ┆                ┆ -0.053286, …   │\n",
       "│             ┆ o…             ┆                ┆                ┆                ┆ -0.03…         │\n",
       "│ 3           ┆ 3 Copyright    ┆ 779            ┆ 113            ┆ 194.75         ┆ [0.035766,     │\n",
       "│             ┆ 2014           ┆                ┆                ┆                ┆ 0.038918, …    │\n",
       "│             ┆ Ṭhānissaro Bh… ┆                ┆                ┆                ┆ -0.0299…       │\n",
       "│ 4           ┆ 4              ┆ 659            ┆ 107            ┆ 164.75         ┆ [0.072552,     │\n",
       "│             ┆ Abbreviations  ┆                ┆                ┆                ┆ -0.048293, …   │\n",
       "│             ┆ AN Aṅguttara   ┆                ┆                ┆                ┆ -0.023…        │\n",
       "│             ┆ N…             ┆                ┆                ┆                ┆                │\n",
       "└─────────────┴────────────────┴────────────────┴────────────────┴────────────────┴────────────────┘"
      ]
     },
     "execution_count": 117,
     "metadata": {},
     "output_type": "execute_result"
    }
   ],
   "source": [
    "## Save to file\n",
    "text_chunks_and_embeddings_df = pl.from_dicts(pages_and_chunks_over_min_token_len).with_columns(\n",
    "    embedding=pl.Series(text_chunk_embeddings.cpu().numpy())\n",
    ")\n",
    "text_chunks_and_embeddings_df.head()"
   ]
  },
  {
   "cell_type": "code",
   "execution_count": 118,
   "metadata": {},
   "outputs": [],
   "source": [
    "save_path = '/home/graham/projects/buddhism/rag/data/final_embeddings.jsonl'\n",
    "text_chunks_and_embeddings_df.write_ndjson(save_path)"
   ]
  },
  {
   "cell_type": "code",
   "execution_count": 121,
   "metadata": {},
   "outputs": [
    {
     "data": {
      "text/html": [
       "<div><style>\n",
       ".dataframe > thead > tr,\n",
       ".dataframe > tbody > tr {\n",
       "  text-align: right;\n",
       "  white-space: pre-wrap;\n",
       "}\n",
       "</style>\n",
       "<small>shape: (5, 6)</small><table border=\"1\" class=\"dataframe\"><thead><tr><th>page_number</th><th>sentence_chunk</th><th>chunk_char_count</th><th>chunk_word_count</th><th>chunk_token_count</th><th>embedding</th></tr><tr><td>i64</td><td>str</td><td>i64</td><td>i64</td><td>f64</td><td>list[f64]</td></tr></thead><tbody><tr><td>1</td><td>&quot;1 HANDFULof LEAVES VOLUME FOUR…</td><td>122</td><td>17</td><td>30.5</td><td>[-0.001696, -0.055177, … -0.050128]</td></tr><tr><td>2</td><td>&quot;2 Once the Blessed One was sta…</td><td>854</td><td>154</td><td>213.5</td><td>[0.057702, 0.016415, … 0.004121]</td></tr><tr><td>2</td><td>&quot;This is stress … This is the o…</td><td>468</td><td>84</td><td>117.0</td><td>[-0.004768, -0.053286, … -0.033697]</td></tr><tr><td>3</td><td>&quot;3 Copyright 2014 Ṭhānissaro Bh…</td><td>779</td><td>113</td><td>194.75</td><td>[0.035766, 0.038918, … -0.029905]</td></tr><tr><td>4</td><td>&quot;4 Abbreviations AN Aṅguttara N…</td><td>659</td><td>107</td><td>164.75</td><td>[0.072552, -0.048293, … -0.023471]</td></tr></tbody></table></div>"
      ],
      "text/plain": [
       "shape: (5, 6)\n",
       "┌─────────────┬────────────────┬────────────────┬────────────────┬────────────────┬────────────────┐\n",
       "│ page_number ┆ sentence_chunk ┆ chunk_char_cou ┆ chunk_word_cou ┆ chunk_token_co ┆ embedding      │\n",
       "│ ---         ┆ ---            ┆ nt             ┆ nt             ┆ unt            ┆ ---            │\n",
       "│ i64         ┆ str            ┆ ---            ┆ ---            ┆ ---            ┆ list[f64]      │\n",
       "│             ┆                ┆ i64            ┆ i64            ┆ f64            ┆                │\n",
       "╞═════════════╪════════════════╪════════════════╪════════════════╪════════════════╪════════════════╡\n",
       "│ 1           ┆ 1 HANDFULof    ┆ 122            ┆ 17             ┆ 30.5           ┆ [-0.001696,    │\n",
       "│             ┆ LEAVES VOLUME  ┆                ┆                ┆                ┆ -0.055177, …   │\n",
       "│             ┆ FOUR…          ┆                ┆                ┆                ┆ -0.05…         │\n",
       "│ 2           ┆ 2 Once the     ┆ 854            ┆ 154            ┆ 213.5          ┆ [0.057702,     │\n",
       "│             ┆ Blessed One    ┆                ┆                ┆                ┆ 0.016415, …    │\n",
       "│             ┆ was sta…       ┆                ┆                ┆                ┆ 0.00412…       │\n",
       "│ 2           ┆ This is stress ┆ 468            ┆ 84             ┆ 117.0          ┆ [-0.004768,    │\n",
       "│             ┆ … This is the  ┆                ┆                ┆                ┆ -0.053286, …   │\n",
       "│             ┆ o…             ┆                ┆                ┆                ┆ -0.03…         │\n",
       "│ 3           ┆ 3 Copyright    ┆ 779            ┆ 113            ┆ 194.75         ┆ [0.035766,     │\n",
       "│             ┆ 2014           ┆                ┆                ┆                ┆ 0.038918, …    │\n",
       "│             ┆ Ṭhānissaro Bh… ┆                ┆                ┆                ┆ -0.0299…       │\n",
       "│ 4           ┆ 4              ┆ 659            ┆ 107            ┆ 164.75         ┆ [0.072552,     │\n",
       "│             ┆ Abbreviations  ┆                ┆                ┆                ┆ -0.048293, …   │\n",
       "│             ┆ AN Aṅguttara   ┆                ┆                ┆                ┆ -0.023…        │\n",
       "│             ┆ N…             ┆                ┆                ┆                ┆                │\n",
       "└─────────────┴────────────────┴────────────────┴────────────────┴────────────────┴────────────────┘"
      ]
     },
     "execution_count": 121,
     "metadata": {},
     "output_type": "execute_result"
    }
   ],
   "source": [
    "# Import to test and view\n",
    "text_chunks_and_embeddings_df = pl.read_ndjson(save_path)\n",
    "text_chunks_and_embeddings_df.head()"
   ]
  },
  {
   "cell_type": "markdown",
   "metadata": {},
   "source": [
    "## 2. Rag - Search and Answer\n",
    "\n",
    "RAG goal: Retrieve relevant passages based on a query and use those passages to augment an input to an LLM to generate output based on relevant passages\n",
    "\n"
   ]
  },
  {
   "cell_type": "code",
   "execution_count": 1,
   "metadata": {},
   "outputs": [
    {
     "name": "stderr",
     "output_type": "stream",
     "text": [
      "/home/graham/projects/buddhism/rag/venv_rag/lib/python3.10/site-packages/sentence_transformers/cross_encoder/CrossEncoder.py:13: TqdmExperimentalWarning: Using `tqdm.autonotebook.tqdm` in notebook mode. Use `tqdm.tqdm` instead to force console mode (e.g. in jupyter console)\n",
      "  from tqdm.autonotebook import tqdm, trange\n",
      "/home/graham/projects/buddhism/rag/venv_rag/lib/python3.10/site-packages/transformers/tokenization_utils_base.py:1617: FutureWarning: `clean_up_tokenization_spaces` was not set. It will be set to `True` by default. This behavior will be deprecated in transformers v4.45, and will be then set to `False` by default. For more details check this issue: https://github.com/huggingface/transformers/issues/31884\n",
      "  warnings.warn(\n"
     ]
    },
    {
     "data": {
      "text/html": [
       "<div><style>\n",
       ".dataframe > thead > tr,\n",
       ".dataframe > tbody > tr {\n",
       "  text-align: right;\n",
       "  white-space: pre-wrap;\n",
       "}\n",
       "</style>\n",
       "<small>shape: (5, 6)</small><table border=\"1\" class=\"dataframe\"><thead><tr><th>page_number</th><th>sentence_chunk</th><th>chunk_char_count</th><th>chunk_word_count</th><th>chunk_token_count</th><th>embedding</th></tr><tr><td>i64</td><td>str</td><td>i64</td><td>i64</td><td>f64</td><td>list[f64]</td></tr></thead><tbody><tr><td>1</td><td>&quot;1 HANDFULof LEAVES VOLUME FOUR…</td><td>122</td><td>17</td><td>30.5</td><td>[-0.001696, -0.055177, … -0.050128]</td></tr><tr><td>2</td><td>&quot;2 Once the Blessed One was sta…</td><td>854</td><td>154</td><td>213.5</td><td>[0.057702, 0.016415, … 0.004121]</td></tr><tr><td>2</td><td>&quot;This is stress … This is the o…</td><td>468</td><td>84</td><td>117.0</td><td>[-0.004768, -0.053286, … -0.033697]</td></tr><tr><td>3</td><td>&quot;3 Copyright 2014 Ṭhānissaro Bh…</td><td>779</td><td>113</td><td>194.75</td><td>[0.035766, 0.038918, … -0.029905]</td></tr><tr><td>4</td><td>&quot;4 Abbreviations AN Aṅguttara N…</td><td>659</td><td>107</td><td>164.75</td><td>[0.072552, -0.048293, … -0.023471]</td></tr></tbody></table></div>"
      ],
      "text/plain": [
       "shape: (5, 6)\n",
       "┌─────────────┬────────────────┬────────────────┬────────────────┬────────────────┬────────────────┐\n",
       "│ page_number ┆ sentence_chunk ┆ chunk_char_cou ┆ chunk_word_cou ┆ chunk_token_co ┆ embedding      │\n",
       "│ ---         ┆ ---            ┆ nt             ┆ nt             ┆ unt            ┆ ---            │\n",
       "│ i64         ┆ str            ┆ ---            ┆ ---            ┆ ---            ┆ list[f64]      │\n",
       "│             ┆                ┆ i64            ┆ i64            ┆ f64            ┆                │\n",
       "╞═════════════╪════════════════╪════════════════╪════════════════╪════════════════╪════════════════╡\n",
       "│ 1           ┆ 1 HANDFULof    ┆ 122            ┆ 17             ┆ 30.5           ┆ [-0.001696,    │\n",
       "│             ┆ LEAVES VOLUME  ┆                ┆                ┆                ┆ -0.055177, …   │\n",
       "│             ┆ FOUR…          ┆                ┆                ┆                ┆ -0.05…         │\n",
       "│ 2           ┆ 2 Once the     ┆ 854            ┆ 154            ┆ 213.5          ┆ [0.057702,     │\n",
       "│             ┆ Blessed One    ┆                ┆                ┆                ┆ 0.016415, …    │\n",
       "│             ┆ was sta…       ┆                ┆                ┆                ┆ 0.00412…       │\n",
       "│ 2           ┆ This is stress ┆ 468            ┆ 84             ┆ 117.0          ┆ [-0.004768,    │\n",
       "│             ┆ … This is the  ┆                ┆                ┆                ┆ -0.053286, …   │\n",
       "│             ┆ o…             ┆                ┆                ┆                ┆ -0.03…         │\n",
       "│ 3           ┆ 3 Copyright    ┆ 779            ┆ 113            ┆ 194.75         ┆ [0.035766,     │\n",
       "│             ┆ 2014           ┆                ┆                ┆                ┆ 0.038918, …    │\n",
       "│             ┆ Ṭhānissaro Bh… ┆                ┆                ┆                ┆ -0.0299…       │\n",
       "│ 4           ┆ 4              ┆ 659            ┆ 107            ┆ 164.75         ┆ [0.072552,     │\n",
       "│             ┆ Abbreviations  ┆                ┆                ┆                ┆ -0.048293, …   │\n",
       "│             ┆ AN Aṅguttara   ┆                ┆                ┆                ┆ -0.023…        │\n",
       "│             ┆ N…             ┆                ┆                ┆                ┆                │\n",
       "└─────────────┴────────────────┴────────────────┴────────────────┴────────────────┴────────────────┘"
      ]
     },
     "execution_count": 1,
     "metadata": {},
     "output_type": "execute_result"
    }
   ],
   "source": [
    "import random\n",
    "\n",
    "import torch\n",
    "import numpy as np\n",
    "import polars as pl\n",
    "\n",
    "from sentence_transformers import util, SentenceTransformer\n",
    "\n",
    "device = \"cuda\" if torch.cuda.is_available() else \"cpu\"\n",
    "\n",
    "# import texts and embedding df\n",
    "text_chunks_and_embeddings_df = pl.read_ndjson('/home/graham/projects/buddhism/rag/data/final_embeddings.jsonl')\n",
    "\n",
    "# Convert to dicts\n",
    "page_and_chunks = text_chunks_and_embeddings_df.to_dicts()\n",
    "\n",
    "# Create model\n",
    "embedding_model = SentenceTransformer(model_name_or_path=\"all-mpnet-base-v2\",\n",
    "                                      device=device)\n",
    "embeddings = torch.tensor(text_chunks_and_embeddings_df[\"embedding\"].to_list())\n",
    "text_chunks_and_embeddings_df.head()"
   ]
  },
  {
   "cell_type": "code",
   "execution_count": 15,
   "metadata": {},
   "outputs": [
    {
     "name": "stdout",
     "output_type": "stream",
     "text": [
      "Query: consciousness\n",
      "[INFO] time taken to get scores on 1714: 0.019 seconds\n"
     ]
    },
    {
     "data": {
      "text/plain": [
       "torch.return_types.topk(\n",
       "values=tensor([0.5836, 0.5802, 0.5782, 0.5752, 0.5743], device='cuda:0'),\n",
       "indices=tensor([ 554, 1399,  435,  979, 1558], device='cuda:0'))"
      ]
     },
     "execution_count": 15,
     "metadata": {},
     "output_type": "execute_result"
    }
   ],
   "source": [
    "# 1. Define query\n",
    "query = \"consciousness\"\n",
    "print(f\"Query: {query}\")\n",
    "\n",
    "# 2. Embed Query\n",
    "query_embedding = embedding_model.encode(query, convert_to_tensor=True)\n",
    "\n",
    "# 3. Get similarity scores with dot-product (use cosine similarity if outputs of model aren't normalized)\n",
    "from time import perf_counter as timer\n",
    "start_time = timer()\n",
    "dot_scores = util.cos_sim(a=query_embedding, b=embeddings.to(device))[0]\n",
    "end_time = timer()\n",
    "\n",
    "print(f\"[INFO] time taken to get scores on {len(embeddings)}: {end_time - start_time:.3f} seconds\")\n",
    "\n",
    "# 4. Get the top-k results\n",
    "k = 5\n",
    "top_results_dot_product = torch.topk(dot_scores, k=k)\n",
    "top_results_dot_product\n"
   ]
  },
  {
   "cell_type": "code",
   "execution_count": 16,
   "metadata": {},
   "outputs": [
    {
     "name": "stdout",
     "output_type": "stream",
     "text": [
      "This is the cause, this is the reason, why some beings become totally unbound in the present life.” Note 1. A perception with a share in decline is one that causes the mind to fall from concentration. A perception with a share in stability is one that helps to maintain concentration. A perception with a share in distinction is one that leads to higher stages of concentration. A perception with a share in penetration is one leading to liberating insight. See also: MN 118; AN 4:49; AN 7:46; AN 10:60\n",
      "*******************\n",
      "Just as pain arises as an aﬄiction for a healthy person, even so the attention to perceptions dealing with forms that beset me was an aﬄiction for me. [ 6] “The thought occurred to me: ‘What if, with the complete transcending of the dimension of the inﬁnitude of space, (perceiving,) “Inﬁnite consciousness,” I were to enter & remain in the dimension of the inﬁnitude of consciousness?’ But my heart didn’t leap up at the dimension of the inﬁnitude of consciousness, didn’t grow conﬁdent, steadfast, or ﬁrm, seeing it as peace.… So at a later time, having seen the drawback of the dimension of the inﬁnitude of space, I pursued that theme; having understood the reward of the dimension of the inﬁnitude of consciousness, I familiarized myself with it. My heart leaped up at the\n",
      "*******************\n",
      "There is the case where a monk remains focused on the phenomena of arising & passing away with regard to the ﬁve clinging-aggregates: ‘Such is form, such its origination, such its disappearance. Such is feeling.… Such is perception.… Such are fabrications.… Such is consciousness, such its origination, such its disappearance. ’1 But he doesn’t remain touching the\n",
      "*******************\n",
      "The cessation of feeling should be known. The path of practice for the cessation of feeling should be known. “ Perception should be known. The cause by which perception comes into play should be known. The diversity in perception should be known. The result of perception should be known. The cessation of perception should be known. The path of practice for the cessation of perception should be known.\n",
      "*******************\n",
      "From fabrications as a requisite condition comes consciousness. “ From consciousness as a requisite condition comes name-&-form. “ From name-&-form as a requisite condition come the six sense media. “ From the six sense media as a requisite condition comes contact. “ From contact as a requisite condition comes feeling. “ From feeling as a requisite condition comes craving. “ From craving as a requisite condition comes clinging/sustenance.\n",
      "*******************\n"
     ]
    }
   ],
   "source": [
    "for el_ in top_results_dot_product.indices:\n",
    "    print(\n",
    "        page_and_chunks[el_]['sentence_chunk']\n",
    "    )\n",
    "    print('*******************')"
   ]
  },
  {
   "cell_type": "code",
   "execution_count": 12,
   "metadata": {},
   "outputs": [
    {
     "data": {
      "text/plain": [
       "tensor([1315,  120,  485,  785,  568], device='cuda:0')"
      ]
     },
     "execution_count": 12,
     "metadata": {},
     "output_type": "execute_result"
    }
   ],
   "source": [
    "top_results_dot_product.indices"
   ]
  },
  {
   "cell_type": "code",
   "execution_count": null,
   "metadata": {},
   "outputs": [],
   "source": []
  },
  {
   "cell_type": "code",
   "execution_count": null,
   "metadata": {},
   "outputs": [],
   "source": []
  }
 ],
 "metadata": {
  "kernelspec": {
   "display_name": "venv_rag",
   "language": "python",
   "name": "python3"
  },
  "language_info": {
   "codemirror_mode": {
    "name": "ipython",
    "version": 3
   },
   "file_extension": ".py",
   "mimetype": "text/x-python",
   "name": "python",
   "nbconvert_exporter": "python",
   "pygments_lexer": "ipython3",
   "version": "3.10.12"
  }
 },
 "nbformat": 4,
 "nbformat_minor": 2
}
